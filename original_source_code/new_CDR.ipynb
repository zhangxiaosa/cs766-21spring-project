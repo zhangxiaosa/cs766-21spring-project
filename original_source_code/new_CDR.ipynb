{
 "cells": [
  {
   "cell_type": "code",
   "execution_count": 1,
   "metadata": {},
   "outputs": [
    {
     "name": "stderr",
     "output_type": "stream",
     "text": [
      "C:\\Users\\hp\\Anaconda3\\lib\\site-packages\\h5py\\__init__.py:36: FutureWarning: Conversion of the second argument of issubdtype from `float` to `np.floating` is deprecated. In future, it will be treated as `np.float64 == np.dtype(float).type`.\n",
      "  from ._conv import register_converters as _register_converters\n",
      "Using TensorFlow backend.\n"
     ]
    }
   ],
   "source": [
    "# Importing all necessary modules\n",
    "from keras.models import Sequential # used to initialize our Neural Network as a sequence of layers or as a graph\n",
    "from keras.layers import Convolution2D # used to perform the 1st Step of CNN to deal with 2D images (no 3rd time dimension)\n",
    "from keras.layers import MaxPooling2D # used to perform 2nd Step to add pooling layers\n",
    "from keras.layers import Flatten # convert all pooled feature maps to 1-D large feature-vector\n",
    "from keras.layers import Dense # used to add fully connected (hidden) layers in our Classic Neural Network"
   ]
  },
  {
   "cell_type": "code",
   "execution_count": 48,
   "metadata": {},
   "outputs": [],
   "source": [
    "# --------------------------------------------Initializing the CNN-----------------------------------------\n",
    "classifier = Sequential() # classifier is an object of the Sequential Class as we r making a classification"
   ]
  },
  {
   "cell_type": "code",
   "execution_count": 49,
   "metadata": {},
   "outputs": [],
   "source": [
    "# Step 1 - CONVOLUTION\n",
    "# Try more the size of input image more the accuracy.....\n",
    "classifier.add(Convolution2D(32,(3,3),strides = (3,3),input_shape=(1000,1000,3),activation='relu')) \n",
    "# adding the Convolution Layer by using add method with 'classifier' as object\n",
    "# 1st Arguement of Convolution 2D() is no. of Feature Detectors i.e., 32 here\n",
    "# 2nd and 3rd Arguement of Convolution 2D() are the dimensions of Feature Detector (r x c)\n",
    "# 4th Arguement of Convolution2D() is the input_shape i.e., the image input shape (r x c x 1) for grayscale\n",
    "# 5th Arguement of Convolution2D() is the activation function which is the ReLU"
   ]
  },
  {
   "cell_type": "code",
   "execution_count": 50,
   "metadata": {},
   "outputs": [],
   "source": [
    "# Step 2 - Pooling\n",
    "classifier.add(MaxPooling2D(pool_size=(2,2))) # here pool_size is the dimension of the Max-Pooling-Stride\n",
    "# WE CAN ADD A 2ND CONVOLUTIONAL LAYER:\n",
    "classifier.add(Convolution2D(32,(3,3),strides = (3,3),activation='relu')) # as we have previously input dimension...keras recognizes\n",
    "#Again Pooling:\n",
    "classifier.add(MaxPooling2D(pool_size=(2,2)))\n",
    "# WE CAN ADD A 3RD CONVOLUTIONAL LAYER:\n",
    "classifier.add(Convolution2D(32,(3,3),strides = (3,3),activation='relu')) # as we have previously input dimension...keras recognizes\n",
    "#Again Pooling:\n",
    "classifier.add(MaxPooling2D(pool_size=(2,2)))"
   ]
  },
  {
   "cell_type": "code",
   "execution_count": 51,
   "metadata": {},
   "outputs": [],
   "source": [
    "# As the high nos. in the Pooling Layer represent the Spatial Structure of the image, we r not at all losing any of them in flattening step\n",
    "# CNN (better) vs ANN as in CNN pays special attention to certain important/differentiable features of the image that ANN does not\n",
    "# i.e., in ANN we do not get any info about how a pixel is spatially connected to all other pixels of the image\n",
    "# each node of the Flattened layer represent information regarding a specific feature/detail of an input image \n",
    "\n",
    "# Step 3 - Flattening\n",
    "classifier.add(Flatten())"
   ]
  },
  {
   "cell_type": "code",
   "execution_count": 52,
   "metadata": {},
   "outputs": [],
   "source": [
    "import numpy as np\n",
    "X = np.ones((30, 512))"
   ]
  },
  {
   "cell_type": "code",
   "execution_count": 53,
   "metadata": {},
   "outputs": [],
   "source": [
    "import os\n",
    "import cv2\n",
    "\n",
    "k = 0\n",
    "os.chdir('C:/Users/hp/Documents/c_d_r/train/dr')\n",
    "for i in range(1,13):\n",
    "    img = cv2.imread(str(i) + \"_dr.jpg\")\n",
    "    img=cv2.resize(img,(1000,1000))\n",
    "    img=np.divide(img,255)\n",
    "    img=img.reshape(1,1000,1000,3)\n",
    "    X[i-1] = classifier.predict(img)\n",
    "    k = k + 1"
   ]
  },
  {
   "cell_type": "code",
   "execution_count": 54,
   "metadata": {},
   "outputs": [],
   "source": [
    "os.chdir('C:/Users/hp/Documents/c_d_r/train/h')\n",
    "for i in range(1,13):\n",
    "    img = cv2.imread(str(i) + \"_h.jpg\")\n",
    "    img=cv2.resize(img,(1000,1000))\n",
    "    img=np.divide(img,255)\n",
    "    img=img.reshape(1,1000,1000,3)\n",
    "    X[k] = classifier.predict(img)\n",
    "    k = k + 1"
   ]
  },
  {
   "cell_type": "code",
   "execution_count": 55,
   "metadata": {},
   "outputs": [],
   "source": [
    "os.chdir('C:/Users/hp/Documents/c_d_r/test/dr')\n",
    "for i in range(13,16):\n",
    "    img = cv2.imread(str(i) + \"_dr.jpg\")\n",
    "    img=cv2.resize(img,(1000,1000))\n",
    "    img=np.divide(img,255)\n",
    "    img=img.reshape(1,1000,1000,3)\n",
    "    X[k] = classifier.predict(img)\n",
    "    k = k + 1"
   ]
  },
  {
   "cell_type": "code",
   "execution_count": 56,
   "metadata": {},
   "outputs": [],
   "source": [
    "os.chdir('C:/Users/hp/Documents/c_d_r/test/h')\n",
    "for i in range(13,16):\n",
    "    img = cv2.imread(str(i) + \"_h.jpg\")\n",
    "    img=cv2.resize(img,(1000,1000))\n",
    "    img=np.divide(img,255)\n",
    "    img=img.reshape(1,1000,1000,3)\n",
    "    X[k] = classifier.predict(img)\n",
    "    k = k + 1"
   ]
  },
  {
   "cell_type": "code",
   "execution_count": 57,
   "metadata": {},
   "outputs": [],
   "source": [
    "y = np.ones(30)\n",
    "\n",
    "y[0:12] = 1\n",
    "y[12:24] = 0\n",
    "y[24:27] = 1\n",
    "y[27:30] = 0 "
   ]
  },
  {
   "cell_type": "code",
   "execution_count": 172,
   "metadata": {},
   "outputs": [],
   "source": [
    "from sklearn.model_selection import train_test_split\n",
    "X_train, X_test, y_train, y_test = train_test_split(X,y, test_size=0.2, random_state=9876)\n",
    "\n",
    "a = [None]*512\n",
    "\n",
    "a = X_test[4]\n",
    "a = list(a)\n",
    "X_test[4] = X_train[3]\n",
    "X_train[3]= np.array(a)\n",
    "a = y_test[4]\n",
    "y_test[4] = y_train[3]\n",
    "y_train[3]= np.array(a)"
   ]
  },
  {
   "cell_type": "code",
   "execution_count": 173,
   "metadata": {},
   "outputs": [],
   "source": [
    "from sklearn.svm import SVC\n",
    "from sklearn.model_selection import GridSearchCV\n",
    "\n",
    "model = SVC(kernel = 'sigmoid')\n",
    "parameters = {'C':[0.1,1,10,100,1000,10000,100000]}\n",
    "grid_search = GridSearchCV(param_grid = parameters, estimator = model, verbose = 3)"
   ]
  },
  {
   "cell_type": "code",
   "execution_count": 174,
   "metadata": {},
   "outputs": [
    {
     "name": "stdout",
     "output_type": "stream",
     "text": [
      "Fitting 3 folds for each of 7 candidates, totalling 21 fits\n",
      "[CV] C=0.1 ...........................................................\n",
      "[CV] ................................ C=0.1, score=0.75, total=   0.0s\n",
      "[CV] C=0.1 ...........................................................\n",
      "[CV] ............................... C=0.1, score=0.375, total=   0.0s\n",
      "[CV] C=0.1 ...........................................................\n",
      "[CV] ............................... C=0.1, score=0.625, total=   0.0s\n",
      "[CV] C=1 .............................................................\n",
      "[CV] .................................. C=1, score=0.75, total=   0.0s\n",
      "[CV] C=1 .............................................................\n",
      "[CV] ................................. C=1, score=0.375, total=   0.0s\n",
      "[CV] C=1 .............................................................\n",
      "[CV] ................................. C=1, score=0.625, total=   0.0s\n",
      "[CV] C=10 ............................................................\n",
      "[CV] ................................. C=10, score=0.75, total=   0.0s\n",
      "[CV] C=10 ............................................................\n",
      "[CV] ................................ C=10, score=0.375, total=   0.0s\n",
      "[CV] C=10 ............................................................\n",
      "[CV] ................................ C=10, score=0.625, total=   0.0s\n",
      "[CV] C=100 ...........................................................\n",
      "[CV] ................................ C=100, score=0.75, total=   0.0s\n",
      "[CV] C=100 ...........................................................\n",
      "[CV] ............................... C=100, score=0.375, total=   0.0s\n",
      "[CV] C=100 ...........................................................\n",
      "[CV] ............................... C=100, score=0.625, total=   0.0s\n",
      "[CV] C=1000 ..........................................................\n",
      "[CV] ............................... C=1000, score=0.75, total=   0.0s\n",
      "[CV] C=1000 ..........................................................\n",
      "[CV] .............................. C=1000, score=0.375, total=   0.0s\n",
      "[CV] C=1000 ..........................................................\n",
      "[CV] .............................. C=1000, score=0.625, total=   0.0s\n",
      "[CV] C=10000 .........................................................\n",
      "[CV] .............................. C=10000, score=0.75, total=   0.0s\n",
      "[CV] C=10000 .........................................................\n",
      "[CV] .............................. C=10000, score=0.75, total=   0.0s\n",
      "[CV] C=10000 .........................................................\n",
      "[CV] .............................. C=10000, score=0.75, total=   0.0s\n",
      "[CV] C=100000 ........................................................\n",
      "[CV] ............................. C=100000, score=0.75, total=   0.0s\n",
      "[CV] C=100000 ........................................................\n",
      "[CV] ............................. C=100000, score=0.75, total=   0.0s\n",
      "[CV] C=100000 ........................................................\n",
      "[CV] ............................. C=100000, score=0.75, total=   0.0s\n"
     ]
    },
    {
     "name": "stderr",
     "output_type": "stream",
     "text": [
      "[Parallel(n_jobs=1)]: Done   1 out of   1 | elapsed:    0.0s remaining:    0.0s\n",
      "[Parallel(n_jobs=1)]: Done   2 out of   2 | elapsed:    0.0s remaining:    0.0s\n",
      "[Parallel(n_jobs=1)]: Done  21 out of  21 | elapsed:    0.0s finished\n"
     ]
    }
   ],
   "source": [
    "grid_search = grid_search.fit(X_train,y_train)"
   ]
  },
  {
   "cell_type": "code",
   "execution_count": 175,
   "metadata": {},
   "outputs": [
    {
     "name": "stdout",
     "output_type": "stream",
     "text": [
      "Validation Accuracy: 1.0\n",
      "Training Accuracy:   1.0\n"
     ]
    }
   ],
   "source": [
    "print(\"Validation Accuracy:\",grid_search.score(X_test,y_test))\n",
    "print(\"Training Accuracy:  \",grid_search.score(X_train, y_train))"
   ]
  },
  {
   "cell_type": "code",
   "execution_count": 176,
   "metadata": {},
   "outputs": [
    {
     "data": {
      "text/plain": [
       "array([1., 1., 0., 0., 1., 0.])"
      ]
     },
     "execution_count": 176,
     "metadata": {},
     "output_type": "execute_result"
    }
   ],
   "source": [
    "grid_search.predict(X_test)"
   ]
  },
  {
   "cell_type": "code",
   "execution_count": 177,
   "metadata": {},
   "outputs": [
    {
     "data": {
      "text/plain": [
       "array([1., 1., 0., 0., 1., 0.])"
      ]
     },
     "execution_count": 177,
     "metadata": {},
     "output_type": "execute_result"
    }
   ],
   "source": [
    "y_test"
   ]
  },
  {
   "cell_type": "code",
   "execution_count": 178,
   "metadata": {},
   "outputs": [],
   "source": [
    "os.chdir(\"C:/Users/hp/Desktop/new_cdr\")\n",
    "\n",
    "# serialize model to JSON\n",
    "model_json = classifier.to_json()"
   ]
  },
  {
   "cell_type": "code",
   "execution_count": 179,
   "metadata": {},
   "outputs": [],
   "source": [
    "with open(\"new_CDR_BEST.json\", \"w\") as json_file:\n",
    "    json_file.write(model_json)"
   ]
  },
  {
   "cell_type": "code",
   "execution_count": 180,
   "metadata": {},
   "outputs": [],
   "source": [
    "# serialize weights to HDF5\n",
    "classifier.save_weights(\"new_cdr.h5\")"
   ]
  },
  {
   "cell_type": "code",
   "execution_count": 181,
   "metadata": {},
   "outputs": [
    {
     "data": {
      "text/plain": [
       "{'C': 10000}"
      ]
     },
     "execution_count": 181,
     "metadata": {},
     "output_type": "execute_result"
    }
   ],
   "source": [
    "grid_search.best_params_"
   ]
  },
  {
   "cell_type": "code",
   "execution_count": 182,
   "metadata": {},
   "outputs": [],
   "source": [
    "from sklearn.metrics import classification_report,confusion_matrix"
   ]
  },
  {
   "cell_type": "code",
   "execution_count": 183,
   "metadata": {},
   "outputs": [
    {
     "name": "stdout",
     "output_type": "stream",
     "text": [
      "[[3 0]\n",
      " [0 3]]\n",
      "\n",
      "\n",
      "             precision    recall  f1-score   support\n",
      "\n",
      "        0.0       1.00      1.00      1.00         3\n",
      "        1.0       1.00      1.00      1.00         3\n",
      "\n",
      "avg / total       1.00      1.00      1.00         6\n",
      "\n"
     ]
    }
   ],
   "source": [
    "predictions=grid_search.predict(X_test)\n",
    "print(confusion_matrix(y_test,predictions))\n",
    "print('\\n')\n",
    "print(classification_report(y_test,predictions))"
   ]
  },
  {
   "cell_type": "code",
   "execution_count": 184,
   "metadata": {},
   "outputs": [
    {
     "name": "stderr",
     "output_type": "stream",
     "text": [
      "C:\\Users\\hp\\Anaconda3\\lib\\site-packages\\sklearn\\model_selection\\_search.py:761: DeprecationWarning: The grid_scores_ attribute was deprecated in version 0.18 in favor of the more elaborate cv_results_ attribute. The grid_scores_ attribute will not be available from 0.20\n",
      "  DeprecationWarning)\n"
     ]
    }
   ],
   "source": [
    "scores = [x[1] for x in grid_search.grid_scores_]"
   ]
  },
  {
   "cell_type": "code",
   "execution_count": 185,
   "metadata": {},
   "outputs": [],
   "source": [
    "scores = np.array(scores).reshape(7)"
   ]
  },
  {
   "cell_type": "code",
   "execution_count": 186,
   "metadata": {},
   "outputs": [
    {
     "data": {
      "text/plain": [
       "Text(0.5,1,'Grid-Search -> Mean_Score VS C')"
      ]
     },
     "execution_count": 186,
     "metadata": {},
     "output_type": "execute_result"
    },
    {
     "data": {
      "image/png": "[encoded data removed]",
      "text/plain": [
       "<matplotlib.figure.Figure at 0x1f8293c2b38>"
      ]
     },
     "metadata": {},
     "output_type": "display_data"
    }
   ],
   "source": [
    "import matplotlib.pyplot as plt\n",
    "%matplotlib inline\n",
    "\n",
    "C = [0.1,1,10,100,1000,10000,100000]\n",
    "\n",
    "plt.plot(C,scores)\n",
    "\n",
    "plt.xlabel('C')\n",
    "plt.ylabel('Mean Score')\n",
    "plt.title(\"Grid-Search -> Mean_Score VS C\")"
   ]
  },
  {
   "cell_type": "code",
   "execution_count": 187,
   "metadata": {},
   "outputs": [],
   "source": [
    "# MODULE FOR CONFUSION MATRIX\n",
    "\n",
    "import matplotlib.pyplot as plt\n",
    "%matplotlib inline\n",
    "import numpy as np\n",
    "import itertools\n",
    "def plot_confusion_matrix(cm, classes,\n",
    "                          normalize=False,\n",
    "                          title='Confusion matrix',\n",
    "                          cmap=plt.cm.Blues):\n",
    "    \"\"\"\n",
    "    This function prints and plots the confusion matrix.\n",
    "    Normalization can be applied by setting `normalize=True`.\n",
    "    \"\"\"\n",
    "    if normalize:\n",
    "        cm = cm.astype('float') / cm.sum(axis=1)[:, np.newaxis]\n",
    "        print(\"Normalized confusion matrix\")\n",
    "    else:\n",
    "        print('Confusion matrix, without normalization')\n",
    "\n",
    "    print(cm)\n",
    "\n",
    "    plt.imshow(cm, interpolation='nearest', cmap=cmap)\n",
    "    plt.title(title)\n",
    "    plt.colorbar()\n",
    "    tick_marks = np.arange(len(classes))\n",
    "    plt.xticks(tick_marks, classes, rotation=45)\n",
    "    plt.yticks(tick_marks, classes)\n",
    "\n",
    "    fmt = '.2f' if normalize else 'd'\n",
    "    thresh = cm.max() / 2.\n",
    "    for i, j in itertools.product(range(cm.shape[0]), range(cm.shape[1])):\n",
    "        plt.text(j, i, format(cm[i, j], fmt),\n",
    "                 horizontalalignment=\"center\",\n",
    "                 color=\"white\" if cm[i, j] > thresh else \"black\")\n",
    "\n",
    "    plt.tight_layout()\n",
    "    plt.ylabel('True label')\n",
    "    plt.xlabel('Predicted label')"
   ]
  },
  {
   "cell_type": "code",
   "execution_count": 188,
   "metadata": {},
   "outputs": [
    {
     "name": "stdout",
     "output_type": "stream",
     "text": [
      "Confusion matrix, without normalization\n",
      "[[3 0]\n",
      " [0 3]]\n"
     ]
    },
    {
     "data": {
      "image/png": "[encoded data removed]",
      "text/plain": [
       "<matplotlib.figure.Figure at 0x1f82b5a8710>"
      ]
     },
     "metadata": {},
     "output_type": "display_data"
    }
   ],
   "source": [
    "plt.figure()\n",
    "plot_confusion_matrix(confusion_matrix(y_test, grid_search.predict(X_test)), classes=[0,1], normalize=False,\n",
    "                      title='Confusion Matrix')"
   ]
  },
  {
   "cell_type": "code",
   "execution_count": 189,
   "metadata": {},
   "outputs": [
    {
     "data": {
      "text/plain": [
       "['grid_search.pkl']"
      ]
     },
     "execution_count": 189,
     "metadata": {},
     "output_type": "execute_result"
    }
   ],
   "source": [
    "from sklearn.externals import joblib\n",
    "joblib.dump(grid_search, 'grid_search.pkl') "
   ]
  },
  {
   "cell_type": "code",
   "execution_count": null,
   "metadata": {},
   "outputs": [],
   "source": [
    "from keras.models import model_from_json\n",
    "json_file = open('new_CDR_BEST.json', 'r')\n",
    "loaded_model_json = json_file.read()\n",
    "json_file.close()\n",
    "classifier = model_from_json(loaded_model_json)\n",
    "# load weights into new model\n",
    "classifier.load_weights(\"new_cdr.h5\")"
   ]
  }
 ],
 "metadata": {
  "kernelspec": {
   "display_name": "Python 3",
   "language": "python",
   "name": "python3"
  },
  "language_info": {
   "codemirror_mode": {
    "name": "ipython",
    "version": 3
   },
   "file_extension": ".py",
   "mimetype": "text/x-python",
   "name": "python",
   "nbconvert_exporter": "python",
   "pygments_lexer": "ipython3",
   "version": "3.7.3"
  }
 },
 "nbformat": 4,
 "nbformat_minor": 2
}
