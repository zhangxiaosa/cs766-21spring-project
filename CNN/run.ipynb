{
  "nbformat": 4,
  "nbformat_minor": 0,
  "metadata": {
    "kernelspec": {
      "display_name": "Python 3",
      "language": "python",
      "name": "python3"
    },
    "language_info": {
      "codemirror_mode": {
        "name": "ipython",
        "version": 3
      },
      "file_extension": ".py",
      "mimetype": "text/x-python",
      "name": "python",
      "nbconvert_exporter": "python",
      "pygments_lexer": "ipython3",
      "version": "3.6.10"
    },
    "colab": {
      "name": "run.ipynb",
      "provenance": []
    },
    "accelerator": "GPU"
  },
  "cells": [
    {
      "cell_type": "code",
      "metadata": {
        "id": "dGoAP5Dn3DwQ"
      },
      "source": [
        "import tensorflow as tf\n",
        "from tensorflow.keras import datasets, layers, models\n",
        "import matplotlib.pyplot as plt\n",
        "import numpy as np\n",
        "import os, re, sys\n",
        "from sklearn.model_selection import train_test_split\n",
        "import skimage.io\n",
        "import gc"
      ],
      "execution_count": 2,
      "outputs": []
    },
    {
      "cell_type": "code",
      "metadata": {
        "colab": {
          "base_uri": "https://localhost:8080/"
        },
        "id": "bYucCZeH_dHH",
        "outputId": "cb07b57a-adb4-4989-bde2-e7851f15d5ca"
      },
      "source": [
        "# test if GPUs are available\n",
        "device_name = tf.test.gpu_device_name()\n",
        "if device_name != '/device:GPU:0':\n",
        "  raise SystemError('GPU device not found')\n",
        "print('Found GPU at: {}'.format(device_name))"
      ],
      "execution_count": 3,
      "outputs": [
        {
          "output_type": "stream",
          "text": [
            "Found GPU at: /device:GPU:0\n"
          ],
          "name": "stdout"
        }
      ]
    },
    {
      "cell_type": "code",
      "metadata": {
        "colab": {
          "base_uri": "https://localhost:8080/"
        },
        "id": "BUiMh4isCHnS",
        "outputId": "ba3c5307-54a5-4291-fb9a-f287214f4629"
      },
      "source": [
        "from google.colab import drive\n",
        "drive.mount('/content/drive')"
      ],
      "execution_count": 4,
      "outputs": [
        {
          "output_type": "stream",
          "text": [
            "Mounted at /content/drive\n"
          ],
          "name": "stdout"
        }
      ]
    },
    {
      "cell_type": "code",
      "metadata": {
        "id": "UJQvxwJFDmYk"
      },
      "source": [
        "# set project root, maybe you need to firstly \n",
        "# add shortcut of CS 766 Project to drive.\n",
        "project_root = './drive/MyDrive/CS 766 Project/Project Coding and Data Files'"
      ],
      "execution_count": 5,
      "outputs": []
    },
    {
      "cell_type": "code",
      "metadata": {
        "id": "GGJsefpJ-XjF"
      },
      "source": [
        "# class to initialize CNNs\n",
        "class OriginCNN(object):\n",
        "  \"\"\"docstring for OriginCNN\"\"\"\n",
        "  def __init__(self):\n",
        "    # self.optimizer = 'sgd'\n",
        "    self.optimizer = tf.keras.optimizers.SGD(lr=0.05, decay=1e-6, momentum=0.9, nesterov=True)\n",
        "    self.loss = tf.keras.losses.SparseCategoricalCrossentropy(from_logits=True)\n",
        "    # will add more properties\n",
        "\n",
        "\n",
        "  def build(self):\n",
        "    model = models.Sequential()\n",
        "    model.add(layers.Conv2D(32, (3, 3), strides=(3,3), activation='relu', input_shape=(1000, 1000, 1)))\n",
        "    model.add(layers.MaxPooling2D((2, 2)))\n",
        "    model.add(layers.Conv2D(32, (3, 3), strides=(3,3), activation='relu'))\n",
        "    model.add(layers.MaxPooling2D((2, 2)))\n",
        "    model.add(layers.Conv2D(32, (3, 3), strides=(3,3), activation='relu'))\n",
        "    model.add(layers.MaxPooling2D((2, 2)))\n",
        "\n",
        "    model.add(layers.Flatten())\n",
        "    model.add(layers.Dense(32, activation='sigmoid'))\n",
        "    model.add(layers.Dense(5))\n",
        "\n",
        "    model.summary()\n",
        "    model.compile(optimizer=self.optimizer,\n",
        "                loss=self.loss,\n",
        "                metrics=['accuracy'])\n",
        "    self.model = model\n",
        "\n",
        "\n",
        "  def train(self, train_images, train_labels, validate_images, validate_labels, epochs):\n",
        "    self.history = self.model.fit(train_images, train_labels, epochs=epochs, \n",
        "        validation_data=(validate_images, validate_labels))\n",
        "\n",
        "\n",
        "  def evaluate(self, test_images, test_labels):\n",
        "    _, test_acc = self.model.evaluate(test_images, test_labels, verbose=2)\n",
        "    return test_images.shape[0], test_acc\n",
        "\n",
        "  def save_model(self, filepath):\n",
        "    self.model.save(filepath)\n",
        "\n",
        "  def load_model(self, filepath):\n",
        "    self.model = tf.keras.models.load_model(filepath)\n",
        "\n",
        "  def extract_feature(self, images):\n",
        "    extract = models.Model(self.model.inputs, self.model.layers[-3].output)\n",
        "    return extract.predict(images)"
      ],
      "execution_count": 21,
      "outputs": []
    },
    {
      "cell_type": "code",
      "metadata": {
        "id": "V3suc98v-bRj"
      },
      "source": [
        "class DR_resized(object):\n",
        "  \"\"\"docstring for DR_resized\"\"\"\n",
        "  def __init__(self, is_training, batch_id):\n",
        "    if(is_training):\n",
        "      # load images\n",
        "      all_images = np.load(os.path.join(project_root, \"Processed_Data_Batches\", \"Processed_Xtrain_Batch%d.npy\" % batch_id))\n",
        "      # add a dimension for channels\n",
        "      all_images = np.expand_dims(all_images, axis=-1)\n",
        "\n",
        "      # load labels\n",
        "      all_labels = np.load(os.path.join(project_root, \"Data Batches\", \"Ytrain_Batch%d.npy\" % batch_id), allow_pickle=True)\n",
        "      all_labels = np.array([item[1] for item in all_labels])\n",
        "      all_labels = np.expand_dims(all_labels, axis=-1)\n",
        "      \n",
        "      self.train_images, self.validate_images, self.train_labels, self.validate_labels \\\n",
        "      = train_test_split(all_images, all_labels, test_size=0.2, random_state=9876)\n",
        "    else:\n",
        "        # load images\n",
        "      all_images = np.load(os.path.join(project_root, \"Processed_Data_Batches\", \"Processed_Xtest_Batch%d.npy\") % batch_id)\n",
        "      # add a dimension for channels\n",
        "      all_images = np.expand_dims(all_images, axis=-1)\n",
        "\n",
        "      # load labels\n",
        "      all_labels = np.load(os.path.join(project_root, \"Data Batches\", \"Ytest_Batch%d.npy\" % batch_id), allow_pickle=True)\n",
        "      all_labels = np.array([item[1] for item in all_labels])\n",
        "      all_labels = np.expand_dims(all_labels, axis=-1)\n",
        "      \n",
        "      self.test_images = all_images\n",
        "      self.test_labels = all_labels\n",
        "  \n",
        "  def clear(self):\n",
        "    self.train_images = None\n",
        "    self.validate_images = None\n",
        "    self.test_images = None\n",
        "    self.train_labels = None\n",
        "    self.validate_labels = None\n",
        "    self.test_labels = None\n"
      ],
      "execution_count": 9,
      "outputs": []
    },
    {
      "cell_type": "code",
      "metadata": {
        "id": "xOADsxqM3DwR",
        "colab": {
          "base_uri": "https://localhost:8080/"
        },
        "outputId": "362765cd-8ea5-4fbb-f196-cc4e6cb9b5f0"
      },
      "source": [
        "# initialize CNN\n",
        "myModel = OriginCNN()\n",
        "myModel.build()"
      ],
      "execution_count": null,
      "outputs": [
        {
          "output_type": "stream",
          "text": [
            "Model: \"sequential_1\"\n",
            "_________________________________________________________________\n",
            "Layer (type)                 Output Shape              Param #   \n",
            "=================================================================\n",
            "conv2d_3 (Conv2D)            (None, 333, 333, 32)      320       \n",
            "_________________________________________________________________\n",
            "max_pooling2d_3 (MaxPooling2 (None, 166, 166, 32)      0         \n",
            "_________________________________________________________________\n",
            "conv2d_4 (Conv2D)            (None, 55, 55, 32)        9248      \n",
            "_________________________________________________________________\n",
            "max_pooling2d_4 (MaxPooling2 (None, 27, 27, 32)        0         \n",
            "_________________________________________________________________\n",
            "conv2d_5 (Conv2D)            (None, 9, 9, 32)          9248      \n",
            "_________________________________________________________________\n",
            "max_pooling2d_5 (MaxPooling2 (None, 4, 4, 32)          0         \n",
            "_________________________________________________________________\n",
            "flatten_1 (Flatten)          (None, 512)               0         \n",
            "_________________________________________________________________\n",
            "dense_2 (Dense)              (None, 32)                16416     \n",
            "_________________________________________________________________\n",
            "dense_3 (Dense)              (None, 5)                 165       \n",
            "=================================================================\n",
            "Total params: 35,397\n",
            "Trainable params: 35,397\n",
            "Non-trainable params: 0\n",
            "_________________________________________________________________\n"
          ],
          "name": "stdout"
        }
      ]
    },
    {
      "cell_type": "code",
      "metadata": {
        "id": "LrJnfPqP3DwS",
        "colab": {
          "base_uri": "https://localhost:8080/"
        },
        "outputId": "a84a5f56-d5c9-4a39-fa51-a72b40460c0a"
      },
      "source": [
        "# training process\n",
        "file_num = 9\n",
        "epoch_num = 5\n",
        "for i in range(file_num):\n",
        "  myData = DR_resized(True, i)\n",
        "  print(\"data batch %d loaded\" % i)\n",
        "  myModel.train(myData.train_images, myData.train_labels, myData.validate_images, myData.validate_labels, epoch_num)\n",
        "  print(\"data batch %d trained\" % i)\n",
        "  myData.clear()\n",
        "  gc.collect()"
      ],
      "execution_count": null,
      "outputs": [
        {
          "output_type": "stream",
          "text": [
            "data batch 0 loaded\n",
            "Epoch 1/5\n",
            "78/78 [==============================] - 35s 73ms/step - loss: 1.0288 - accuracy: 0.6490 - val_loss: 0.8555 - val_accuracy: 0.7452\n",
            "Epoch 2/5\n",
            "78/78 [==============================] - 5s 68ms/step - loss: 0.8606 - accuracy: 0.7356 - val_loss: 0.8536 - val_accuracy: 0.7452\n",
            "Epoch 3/5\n",
            "78/78 [==============================] - 5s 68ms/step - loss: 0.8749 - accuracy: 0.7318 - val_loss: 0.8497 - val_accuracy: 0.7452\n",
            "Epoch 4/5\n",
            "78/78 [==============================] - 5s 68ms/step - loss: 0.9014 - accuracy: 0.7219 - val_loss: 0.8516 - val_accuracy: 0.7452\n",
            "Epoch 5/5\n",
            "78/78 [==============================] - 5s 68ms/step - loss: 0.8502 - accuracy: 0.7448 - val_loss: 0.8457 - val_accuracy: 0.7452\n",
            "data batch 0 trained\n",
            "data batch 1 loaded\n",
            "Epoch 1/5\n",
            "78/78 [==============================] - 5s 68ms/step - loss: 0.8831 - accuracy: 0.7330 - val_loss: 0.8632 - val_accuracy: 0.7452\n",
            "Epoch 2/5\n",
            "78/78 [==============================] - 5s 68ms/step - loss: 0.8791 - accuracy: 0.7330 - val_loss: 0.8442 - val_accuracy: 0.7452\n",
            "Epoch 3/5\n",
            "78/78 [==============================] - 5s 68ms/step - loss: 0.8788 - accuracy: 0.7330 - val_loss: 0.8550 - val_accuracy: 0.7452\n",
            "Epoch 4/5\n",
            "78/78 [==============================] - 5s 68ms/step - loss: 0.8753 - accuracy: 0.7330 - val_loss: 0.8548 - val_accuracy: 0.7452\n",
            "Epoch 5/5\n",
            "78/78 [==============================] - 5s 68ms/step - loss: 0.8736 - accuracy: 0.7330 - val_loss: 0.8498 - val_accuracy: 0.7452\n",
            "data batch 1 trained\n",
            "data batch 2 loaded\n",
            "Epoch 1/5\n",
            "78/78 [==============================] - 5s 69ms/step - loss: 0.8790 - accuracy: 0.7330 - val_loss: 0.8482 - val_accuracy: 0.7452\n",
            "Epoch 2/5\n",
            "78/78 [==============================] - 5s 68ms/step - loss: 0.8737 - accuracy: 0.7330 - val_loss: 0.8466 - val_accuracy: 0.7452\n",
            "Epoch 3/5\n",
            "78/78 [==============================] - 5s 69ms/step - loss: 0.8701 - accuracy: 0.7330 - val_loss: 0.8519 - val_accuracy: 0.7452\n",
            "Epoch 4/5\n",
            "78/78 [==============================] - 5s 68ms/step - loss: 0.8666 - accuracy: 0.7330 - val_loss: 0.8488 - val_accuracy: 0.7452\n",
            "Epoch 5/5\n",
            "78/78 [==============================] - 5s 68ms/step - loss: 0.8630 - accuracy: 0.7330 - val_loss: 0.8534 - val_accuracy: 0.7452\n",
            "data batch 2 trained\n",
            "data batch 3 loaded\n",
            "Epoch 1/5\n",
            "78/78 [==============================] - 5s 68ms/step - loss: 0.8745 - accuracy: 0.7330 - val_loss: 0.8433 - val_accuracy: 0.7452\n",
            "Epoch 2/5\n",
            "78/78 [==============================] - 5s 69ms/step - loss: 0.8695 - accuracy: 0.7330 - val_loss: 0.8436 - val_accuracy: 0.7452\n",
            "Epoch 3/5\n",
            "78/78 [==============================] - 5s 68ms/step - loss: 0.8573 - accuracy: 0.7330 - val_loss: 0.8439 - val_accuracy: 0.7452\n",
            "Epoch 4/5\n",
            "78/78 [==============================] - 5s 68ms/step - loss: 0.8372 - accuracy: 0.7326 - val_loss: 0.8483 - val_accuracy: 0.7452\n",
            "Epoch 5/5\n",
            "78/78 [==============================] - 5s 68ms/step - loss: 0.8096 - accuracy: 0.7350 - val_loss: 0.8683 - val_accuracy: 0.7452\n",
            "data batch 3 trained\n",
            "data batch 4 loaded\n",
            "Epoch 1/5\n",
            "78/78 [==============================] - 5s 68ms/step - loss: 0.8767 - accuracy: 0.7330 - val_loss: 0.8497 - val_accuracy: 0.7452\n",
            "Epoch 2/5\n",
            "78/78 [==============================] - 5s 67ms/step - loss: 0.8733 - accuracy: 0.7330 - val_loss: 0.8403 - val_accuracy: 0.7452\n",
            "Epoch 3/5\n",
            "78/78 [==============================] - 5s 67ms/step - loss: 0.8669 - accuracy: 0.7330 - val_loss: 0.8432 - val_accuracy: 0.7452\n",
            "Epoch 4/5\n",
            "78/78 [==============================] - 5s 68ms/step - loss: 0.8597 - accuracy: 0.7330 - val_loss: 0.8488 - val_accuracy: 0.7452\n",
            "Epoch 5/5\n",
            "78/78 [==============================] - 5s 67ms/step - loss: 0.8574 - accuracy: 0.7330 - val_loss: 0.8566 - val_accuracy: 0.7452\n",
            "data batch 4 trained\n",
            "data batch 5 loaded\n",
            "Epoch 1/5\n",
            "78/78 [==============================] - 5s 68ms/step - loss: 0.8761 - accuracy: 0.7330 - val_loss: 0.8455 - val_accuracy: 0.7452\n",
            "Epoch 2/5\n",
            "78/78 [==============================] - 5s 68ms/step - loss: 0.8666 - accuracy: 0.7330 - val_loss: 0.8524 - val_accuracy: 0.7452\n",
            "Epoch 3/5\n",
            "78/78 [==============================] - 5s 68ms/step - loss: 0.8550 - accuracy: 0.7330 - val_loss: 0.8532 - val_accuracy: 0.7452\n",
            "Epoch 4/5\n",
            "78/78 [==============================] - 5s 68ms/step - loss: 0.8394 - accuracy: 0.7322 - val_loss: 0.8685 - val_accuracy: 0.7452\n",
            "Epoch 5/5\n",
            "78/78 [==============================] - 5s 68ms/step - loss: 0.8190 - accuracy: 0.7358 - val_loss: 0.8903 - val_accuracy: 0.7436\n",
            "data batch 5 trained\n",
            "data batch 6 loaded\n",
            "Epoch 1/5\n",
            "78/78 [==============================] - 5s 69ms/step - loss: 0.8793 - accuracy: 0.7330 - val_loss: 0.8458 - val_accuracy: 0.7452\n",
            "Epoch 2/5\n",
            "78/78 [==============================] - 5s 67ms/step - loss: 0.8683 - accuracy: 0.7330 - val_loss: 0.8383 - val_accuracy: 0.7452\n",
            "Epoch 3/5\n",
            "78/78 [==============================] - 5s 68ms/step - loss: 0.8542 - accuracy: 0.7330 - val_loss: 0.8463 - val_accuracy: 0.7452\n",
            "Epoch 4/5\n",
            "78/78 [==============================] - 5s 68ms/step - loss: 0.8200 - accuracy: 0.7346 - val_loss: 0.8450 - val_accuracy: 0.7452\n",
            "Epoch 5/5\n",
            "78/78 [==============================] - 5s 67ms/step - loss: 0.7949 - accuracy: 0.7346 - val_loss: 0.8691 - val_accuracy: 0.7436\n",
            "data batch 6 trained\n",
            "data batch 7 loaded\n",
            "Epoch 1/5\n",
            "78/78 [==============================] - 5s 68ms/step - loss: 0.8776 - accuracy: 0.7330 - val_loss: 0.8500 - val_accuracy: 0.7452\n",
            "Epoch 2/5\n",
            "78/78 [==============================] - 5s 68ms/step - loss: 0.8550 - accuracy: 0.7330 - val_loss: 0.8537 - val_accuracy: 0.7452\n",
            "Epoch 3/5\n",
            "78/78 [==============================] - 5s 67ms/step - loss: 0.8283 - accuracy: 0.7326 - val_loss: 0.8690 - val_accuracy: 0.7452\n",
            "Epoch 4/5\n",
            "78/78 [==============================] - 5s 67ms/step - loss: 0.7997 - accuracy: 0.7362 - val_loss: 0.8879 - val_accuracy: 0.7452\n",
            "Epoch 5/5\n",
            "78/78 [==============================] - 5s 67ms/step - loss: 0.7651 - accuracy: 0.7390 - val_loss: 0.8974 - val_accuracy: 0.7324\n",
            "data batch 7 trained\n",
            "data batch 8 loaded\n",
            "Epoch 1/5\n",
            "78/78 [==============================] - 5s 68ms/step - loss: 0.8833 - accuracy: 0.7306 - val_loss: 0.8478 - val_accuracy: 0.7452\n",
            "Epoch 2/5\n",
            "78/78 [==============================] - 5s 68ms/step - loss: 0.8773 - accuracy: 0.7330 - val_loss: 0.8467 - val_accuracy: 0.7452\n",
            "Epoch 3/5\n",
            "78/78 [==============================] - 5s 67ms/step - loss: 0.8756 - accuracy: 0.7330 - val_loss: 0.8501 - val_accuracy: 0.7452\n",
            "Epoch 4/5\n",
            "78/78 [==============================] - 5s 68ms/step - loss: 0.8716 - accuracy: 0.7330 - val_loss: 0.8490 - val_accuracy: 0.7452\n",
            "Epoch 5/5\n",
            "78/78 [==============================] - 5s 68ms/step - loss: 0.8585 - accuracy: 0.7330 - val_loss: 0.8462 - val_accuracy: 0.7452\n",
            "data batch 8 trained\n"
          ],
          "name": "stdout"
        }
      ]
    },
    {
      "cell_type": "code",
      "metadata": {
        "id": "0svWpVPkiUsK",
        "colab": {
          "base_uri": "https://localhost:8080/"
        },
        "outputId": "3f139d62-1800-4ba5-eee7-f39a36a9ce5b"
      },
      "source": [
        "# testing process\n",
        "file_num = 2\n",
        "num_list = []\n",
        "acc_list = []\n",
        "for i in range(file_num):\n",
        "  myData = DR_resized(False, i)\n",
        "  num, acc = myModel.evaluate(myData.test_images, myData.test_labels)\n",
        "  print(num, acc)\n",
        "  num_list.append(num)\n",
        "  acc_list.append(acc)\n",
        "  myData.clear()\n",
        "  gc.collect()"
      ],
      "execution_count": null,
      "outputs": [
        {
          "output_type": "stream",
          "text": [
            "98/98 - 3s - loss: 0.8625 - accuracy: 0.7354\n",
            "3118 0.735407292842865\n",
            "123/123 - 4s - loss: 0.8743 - accuracy: 0.7312\n",
            "3928 0.7311608791351318\n"
          ],
          "name": "stdout"
        }
      ]
    },
    {
      "cell_type": "code",
      "metadata": {
        "id": "bqL9za1Dkqjy",
        "colab": {
          "base_uri": "https://localhost:8080/"
        },
        "outputId": "f96872d5-2f62-4464-df51-e0f2e0f45a8b"
      },
      "source": [
        "# compute overall accuracy\n",
        "num_list = np.array(num_list)\n",
        "acc_list = np.array(acc_list)\n",
        "acc_overall = (num_list * acc_list).sum() / num_list.sum()\n",
        "print(acc_overall)"
      ],
      "execution_count": null,
      "outputs": [
        {
          "output_type": "stream",
          "text": [
            "0.733040004587972\n"
          ],
          "name": "stdout"
        }
      ]
    },
    {
      "cell_type": "code",
      "metadata": {
        "id": "KBuQpdk7vC25",
        "colab": {
          "base_uri": "https://localhost:8080/"
        },
        "outputId": "687e7799-04ab-4f53-f38e-e295b7a56c72"
      },
      "source": [
        "from datetime import datetime\n",
        "now = datetime.now()\n",
        "dt_string = now.strftime(\"%d-%m-%Y %H:%M:%S\")\n",
        "print(\"date and time =\", dt_string)\n",
        "myModel.save_model(os.path.join(project_root, \"Trained Models\", dt_string))"
      ],
      "execution_count": null,
      "outputs": [
        {
          "output_type": "stream",
          "text": [
            "date and time = 16-03-2021 01:13:01\n",
            "INFO:tensorflow:Assets written to: ./drive/MyDrive/CS 766 Project/Project Coding and Data Files/Trained Models/16-03-2021 01:13:01/assets\n"
          ],
          "name": "stdout"
        }
      ]
    },
    {
      "cell_type": "code",
      "metadata": {
        "id": "J2QDEecGwGTv",
        "outputId": "df61b508-7425-4ee4-cb0e-a10fba35724f",
        "colab": {
          "base_uri": "https://localhost:8080/"
        }
      },
      "source": [
        "# this part is for loading parameters and extracting features\n",
        "# load parameters\n",
        "parameter_version = \"16-03-2021 01:13:01\"\n",
        "if not os.path.exists(os.path.join(project_root, \"features\", parameter_version)):\n",
        "    os.mkdir(os.path.join(project_root, \"features\", parameter_version))\n",
        "\n",
        "my_model_pretrained = OriginCNN()\n",
        "my_model_pretrained.build()\n",
        "my_model_pretrained.load_model(os.path.join(project_root, \"Trained Models\", parameter_version))"
      ],
      "execution_count": 38,
      "outputs": [
        {
          "output_type": "stream",
          "text": [
            "Model: \"sequential_10\"\n",
            "_________________________________________________________________\n",
            "Layer (type)                 Output Shape              Param #   \n",
            "=================================================================\n",
            "conv2d_30 (Conv2D)           (None, 333, 333, 32)      320       \n",
            "_________________________________________________________________\n",
            "max_pooling2d_30 (MaxPooling (None, 166, 166, 32)      0         \n",
            "_________________________________________________________________\n",
            "conv2d_31 (Conv2D)           (None, 55, 55, 32)        9248      \n",
            "_________________________________________________________________\n",
            "max_pooling2d_31 (MaxPooling (None, 27, 27, 32)        0         \n",
            "_________________________________________________________________\n",
            "conv2d_32 (Conv2D)           (None, 9, 9, 32)          9248      \n",
            "_________________________________________________________________\n",
            "max_pooling2d_32 (MaxPooling (None, 4, 4, 32)          0         \n",
            "_________________________________________________________________\n",
            "flatten_10 (Flatten)         (None, 512)               0         \n",
            "_________________________________________________________________\n",
            "dense_20 (Dense)             (None, 32)                16416     \n",
            "_________________________________________________________________\n",
            "dense_21 (Dense)             (None, 5)                 165       \n",
            "=================================================================\n",
            "Total params: 35,397\n",
            "Trainable params: 35,397\n",
            "Non-trainable params: 0\n",
            "_________________________________________________________________\n"
          ],
          "name": "stdout"
        }
      ]
    },
    {
      "cell_type": "code",
      "metadata": {
        "id": "7dC4KT0HjTqe",
        "outputId": "16e00304-8255-4fb3-eeb4-a1adf2a6da70",
        "colab": {
          "base_uri": "https://localhost:8080/"
        }
      },
      "source": [
        "# load training data, extract features and save to npy files\n",
        "file_num = 9\n",
        "for i in range(file_num):\n",
        "  myData = DR_resized(True, i)\n",
        "  feature = my_model_pretrained.extract_feature(myData.train_images)\n",
        "  np.save(os.path.join(project_root, \"features\", parameter_version, \"Xtrain_feature%d.npy\" % i), feature)\n",
        "  print(\"Xtrain_feature%d.npy\" % i)\n",
        "  myData.clear()\n",
        "  gc.collect()\n",
        "\n",
        "# load testing data, extract features and save to npy files\n",
        "file_num = 2\n",
        "for i in range(file_num):\n",
        "  myData = DR_resized(False, i)\n",
        "  feature = my_model_pretrained.extract_feature(myData.test_images)\n",
        "  np.save(os.path.join(project_root, \"features\", parameter_version, \"Xtest_feature%d.npy\" % i), feature)\n",
        "  print(\"Xtest_feature%d.npy\" % i)\n",
        "  myData.clear()\n",
        "  gc.collect()"
      ],
      "execution_count": 39,
      "outputs": [
        {
          "output_type": "stream",
          "text": [
            "Xtrain_feature0.npy\n",
            "Xtrain_feature1.npy\n",
            "Xtrain_feature2.npy\n",
            "Xtrain_feature3.npy\n",
            "Xtrain_feature4.npy\n",
            "Xtrain_feature5.npy\n",
            "Xtrain_feature6.npy\n",
            "Xtrain_feature7.npy\n",
            "Xtrain_feature8.npy\n",
            "Xtest_feature0.npy\n",
            "Xtest_feature1.npy\n"
          ],
          "name": "stdout"
        }
      ]
    }
  ]
}