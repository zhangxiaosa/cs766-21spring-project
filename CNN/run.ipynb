{
  "nbformat": 4,
  "nbformat_minor": 0,
  "metadata": {
    "kernelspec": {
      "display_name": "Python 3",
      "language": "python",
      "name": "python3"
    },
    "language_info": {
      "codemirror_mode": {
        "name": "ipython",
        "version": 3
      },
      "file_extension": ".py",
      "mimetype": "text/x-python",
      "name": "python",
      "nbconvert_exporter": "python",
      "pygments_lexer": "ipython3",
      "version": "3.6.10"
    },
    "colab": {
      "name": "run.ipynb",
      "provenance": []
    },
    "accelerator": "GPU"
  },
  "cells": [
    {
      "cell_type": "code",
      "metadata": {
        "id": "dGoAP5Dn3DwQ"
      },
      "source": [
        "import tensorflow as tf\n",
        "from tensorflow.keras import datasets, layers, models\n",
        "import matplotlib.pyplot as plt\n",
        "import numpy as np\n",
        "import os, re, sys\n",
        "from sklearn.model_selection import train_test_split\n",
        "import skimage.io"
      ],
      "execution_count": 1,
      "outputs": []
    },
    {
      "cell_type": "code",
      "metadata": {
        "colab": {
          "base_uri": "https://localhost:8080/"
        },
        "id": "bYucCZeH_dHH",
        "outputId": "0a6428a5-1560-4f4f-a6ab-5abcb0bb9503"
      },
      "source": [
        "# test if GPUs are available\n",
        "device_name = tf.test.gpu_device_name()\n",
        "if device_name != '/device:GPU:0':\n",
        "  raise SystemError('GPU device not found')\n",
        "print('Found GPU at: {}'.format(device_name))"
      ],
      "execution_count": 2,
      "outputs": [
        {
          "output_type": "stream",
          "text": [
            "Found GPU at: /device:GPU:0\n"
          ],
          "name": "stdout"
        }
      ]
    },
    {
      "cell_type": "code",
      "metadata": {
        "colab": {
          "base_uri": "https://localhost:8080/"
        },
        "id": "BUiMh4isCHnS",
        "outputId": "694e9104-900c-4af8-fda9-9c84f8bda3c0"
      },
      "source": [
        "from google.colab import drive\n",
        "drive.mount('/content/drive')"
      ],
      "execution_count": 3,
      "outputs": [
        {
          "output_type": "stream",
          "text": [
            "Drive already mounted at /content/drive; to attempt to forcibly remount, call drive.mount(\"/content/drive\", force_remount=True).\n"
          ],
          "name": "stdout"
        }
      ]
    },
    {
      "cell_type": "code",
      "metadata": {
        "id": "UJQvxwJFDmYk"
      },
      "source": [
        "# set project root, maybe you need to firstly \n",
        "# add shortcut of CS 766 Project to drive.\n",
        "project_root = './drive/MyDrive/CS 766 Project/Project Coding and Data Files'"
      ],
      "execution_count": 4,
      "outputs": []
    },
    {
      "cell_type": "code",
      "metadata": {
        "id": "GGJsefpJ-XjF"
      },
      "source": [
        "# class to initialize CNNs\n",
        "class OriginCNN(object):\n",
        "  \"\"\"docstring for OriginCNN\"\"\"\n",
        "  def __init__(self):\n",
        "    # self.optimizer = 'sgd'\n",
        "    self.optimizer = tf.keras.optimizers.SGD(lr=0.05, decay=1e-6, momentum=0.9, nesterov=True)\n",
        "    self.loss = tf.keras.losses.SparseCategoricalCrossentropy(from_logits=True)\n",
        "    # will add more properties\n",
        "\n",
        "\n",
        "  def build(self):\n",
        "    model = models.Sequential()\n",
        "    model.add(layers.Conv2D(32, (3, 3), strides=(3,3), activation='relu', input_shape=(1000, 1000, 1)))\n",
        "    model.add(layers.MaxPooling2D((2, 2)))\n",
        "    model.add(layers.Conv2D(32, (3, 3), strides=(3,3), activation='relu'))\n",
        "    model.add(layers.MaxPooling2D((2, 2)))\n",
        "    model.add(layers.Conv2D(32, (3, 3), strides=(3,3), activation='relu'))\n",
        "    model.add(layers.MaxPooling2D((2, 2)))\n",
        "\n",
        "    model.add(layers.Flatten())\n",
        "    model.add(layers.Dense(32, activation='sigmoid'))\n",
        "    model.add(layers.Dense(5))\n",
        "\n",
        "    model.summary()\n",
        "    model.compile(optimizer=self.optimizer,\n",
        "                loss=self.loss,\n",
        "                metrics=['accuracy'])\n",
        "    self.model = model\n",
        "\n",
        "\n",
        "  def train(self, train_images, train_labels, validate_images, validate_labels, epochs):\n",
        "    self.history = self.model.fit(train_images, train_labels, epochs=epochs, \n",
        "        validation_data=(validate_images, validate_labels))\n",
        "\n",
        "\n",
        "  def evaluate(self, test_images, test_labels):\n",
        "    # plt.plot(self.history.history['accuracy'], label='accuracy')\n",
        "    # plt.plot(self.history.history['val_accuracy'], label = 'val_accuracy')\n",
        "    # plt.xlabel('Epoch')\n",
        "    # plt.ylabel('Accuracy')\n",
        "    # plt.ylim([0.5, 1])\n",
        "    # plt.legend(loc='lower right')\n",
        "    # test_loss, test_acc = self.model.evaluate(test_images, test_labels, verbose=2)\n",
        "    # print(test_acc)\n",
        "    _, test_acc = self.model.evaluate(test_images, test_labels, verbose=2)\n",
        "    return test_images.shape[0], test_acc\n",
        "\n",
        "  def save_model(self, filepath):\n",
        "    self.model.save(filepath)\n",
        "\n",
        "  def load_model(self, filepath):\n",
        "    self.model = tf.keras.models.load_model(filepath)"
      ],
      "execution_count": 5,
      "outputs": []
    },
    {
      "cell_type": "code",
      "metadata": {
        "id": "V3suc98v-bRj"
      },
      "source": [
        "class DR_resized(object):\n",
        "  \"\"\"docstring for DR_resized\"\"\"\n",
        "  def __init__(self, is_training, batch_id):\n",
        "    if(is_training):\n",
        "      # load images\n",
        "      all_images = np.load(os.path.join(project_root, \"Processed_Data_Batches\", \"Processed_Xtrain_Batch%d.npy\" % batch_id))\n",
        "      # add a dimension for channels\n",
        "      all_images = np.expand_dims(all_images, axis=-1)\n",
        "\n",
        "      # load labels\n",
        "      all_labels = np.load(os.path.join(project_root, \"Data Batches\", \"Ytrain_Batch%d.npy\" % batch_id), allow_pickle=True)\n",
        "      all_labels = np.array([item[1] for item in all_labels])\n",
        "      all_labels = np.expand_dims(all_labels, axis=-1)\n",
        "      \n",
        "      self.train_images, self.validate_images, self.train_labels, self.validate_labels \\\n",
        "      = train_test_split(all_images, all_labels, test_size=0.2, random_state=9876)\n",
        "    else:\n",
        "        # load images\n",
        "      all_images = np.load(os.path.join(project_root, \"Processed_Data_Batches\", \"Processed_Xtest_Batch%d.npy\") % batch_id)\n",
        "      # add a dimension for channels\n",
        "      all_images = np.expand_dims(all_images, axis=-1)\n",
        "\n",
        "      # load labels\n",
        "      all_labels = np.load(os.path.join(project_root, \"Data Batches\", \"Ytest_Batch%d.npy\" % batch_id), allow_pickle=True)\n",
        "      all_labels = np.array([item[1] for item in all_labels])\n",
        "      all_labels = np.expand_dims(all_labels, axis=-1)\n",
        "      \n",
        "      self.test_images = all_images\n",
        "      self.train_labels = all_labels\n"
      ],
      "execution_count": 6,
      "outputs": []
    },
    {
      "cell_type": "code",
      "metadata": {
        "id": "xOADsxqM3DwR",
        "outputId": "4a2dcf95-1b8e-490d-ed86-d5a6b24f63c4",
        "colab": {
          "base_uri": "https://localhost:8080/"
        }
      },
      "source": [
        "# initialize CNN\n",
        "myModel = OriginCNN()\n",
        "myModel.build()"
      ],
      "execution_count": 7,
      "outputs": [
        {
          "output_type": "stream",
          "text": [
            "Model: \"sequential\"\n",
            "_________________________________________________________________\n",
            "Layer (type)                 Output Shape              Param #   \n",
            "=================================================================\n",
            "conv2d (Conv2D)              (None, 333, 333, 32)      320       \n",
            "_________________________________________________________________\n",
            "max_pooling2d (MaxPooling2D) (None, 166, 166, 32)      0         \n",
            "_________________________________________________________________\n",
            "conv2d_1 (Conv2D)            (None, 55, 55, 32)        9248      \n",
            "_________________________________________________________________\n",
            "max_pooling2d_1 (MaxPooling2 (None, 27, 27, 32)        0         \n",
            "_________________________________________________________________\n",
            "conv2d_2 (Conv2D)            (None, 9, 9, 32)          9248      \n",
            "_________________________________________________________________\n",
            "max_pooling2d_2 (MaxPooling2 (None, 4, 4, 32)          0         \n",
            "_________________________________________________________________\n",
            "flatten (Flatten)            (None, 512)               0         \n",
            "_________________________________________________________________\n",
            "dense (Dense)                (None, 32)                16416     \n",
            "_________________________________________________________________\n",
            "dense_1 (Dense)              (None, 5)                 165       \n",
            "=================================================================\n",
            "Total params: 35,397\n",
            "Trainable params: 35,397\n",
            "Non-trainable params: 0\n",
            "_________________________________________________________________\n"
          ],
          "name": "stdout"
        }
      ]
    },
    {
      "cell_type": "code",
      "metadata": {
        "id": "LrJnfPqP3DwS"
      },
      "source": [
        "# # training process\n",
        "# file_num = 9\n",
        "# epoch_num = 5\n",
        "# for i in range(file_num):\n",
        "#   myData = DR_resized(True, i)\n",
        "#   print(\"data batch %d loaded\" % i)\n",
        "#   myModel.train(myData.train_images, myData.train_labels, myData.validate_images, myData.validate_labels, epoch_num)\n",
        "#   print(\"data batch %d trained\" % i)\n",
        "#   # del myData\n",
        "#   myData = None"
      ],
      "execution_count": null,
      "outputs": []
    },
    {
      "cell_type": "code",
      "metadata": {
        "id": "HbaSCCew0_-N",
        "outputId": "400e2dd8-bfb0-4c53-dbb0-f0856aa7b228",
        "colab": {
          "base_uri": "https://localhost:8080/"
        }
      },
      "source": [
        "# training process, manually\n",
        "epoch_num = 5\n",
        "myData = DR_resized(True, 0)\n",
        "print(\"data batch %d loaded\" % 0)\n",
        "myModel.train(myData.train_images, myData.train_labels, myData.validate_images, myData.validate_labels, epoch_num)\n",
        "print(\"data batch %d trained\" % 0)\n",
        "# del myData\n",
        "myData = None"
      ],
      "execution_count": 8,
      "outputs": [
        {
          "output_type": "stream",
          "text": [
            "data batch 0 loaded\n",
            "Epoch 1/5\n",
            "78/78 [==============================] - 38s 75ms/step - loss: 0.9400 - accuracy: 0.7278 - val_loss: 0.8529 - val_accuracy: 0.7452\n",
            "Epoch 2/5\n",
            "78/78 [==============================] - 5s 66ms/step - loss: 0.8500 - accuracy: 0.7451 - val_loss: 0.8670 - val_accuracy: 0.7452\n",
            "Epoch 3/5\n",
            "78/78 [==============================] - 5s 67ms/step - loss: 0.9103 - accuracy: 0.7192 - val_loss: 0.8503 - val_accuracy: 0.7452\n",
            "Epoch 4/5\n",
            "78/78 [==============================] - 5s 67ms/step - loss: 0.9167 - accuracy: 0.7163 - val_loss: 0.8508 - val_accuracy: 0.7452\n",
            "Epoch 5/5\n",
            "78/78 [==============================] - 5s 67ms/step - loss: 0.8858 - accuracy: 0.7324 - val_loss: 0.8464 - val_accuracy: 0.7452\n",
            "data batch 0 trained\n"
          ],
          "name": "stdout"
        }
      ]
    },
    {
      "cell_type": "code",
      "metadata": {
        "id": "HIBoSXEy2Ecp"
      },
      "source": [
        "myData"
      ],
      "execution_count": 14,
      "outputs": []
    },
    {
      "cell_type": "code",
      "metadata": {
        "id": "sW9KAxDP1L9R",
        "outputId": "458f4a15-5313-40e5-8870-76a28584452c",
        "colab": {
          "base_uri": "https://localhost:8080/"
        }
      },
      "source": [
        "# training process, manually\n",
        "epoch_num = 5\n",
        "myData = DR_resized(True, 1)\n",
        "print(\"data batch %d loaded\" % 1)\n",
        "myModel.train(myData.train_images, myData.train_labels, myData.validate_images, myData.validate_labels, epoch_num)\n",
        "print(\"data batch %d trained\" % 1)\n",
        "# del myData\n",
        "myData = None"
      ],
      "execution_count": 15,
      "outputs": [
        {
          "output_type": "stream",
          "text": [
            "data batch 1 loaded\n",
            "Epoch 1/5\n",
            "78/78 [==============================] - 5s 68ms/step - loss: 0.8798 - accuracy: 0.7330 - val_loss: 0.8481 - val_accuracy: 0.7452\n",
            "Epoch 2/5\n",
            "78/78 [==============================] - 5s 67ms/step - loss: 0.8765 - accuracy: 0.7330 - val_loss: 0.8456 - val_accuracy: 0.7452\n",
            "Epoch 3/5\n",
            "78/78 [==============================] - 5s 67ms/step - loss: 0.8776 - accuracy: 0.7330 - val_loss: 0.8496 - val_accuracy: 0.7452\n",
            "Epoch 4/5\n",
            "78/78 [==============================] - 5s 67ms/step - loss: 0.8756 - accuracy: 0.7330 - val_loss: 0.8574 - val_accuracy: 0.7452\n",
            "Epoch 5/5\n",
            "78/78 [==============================] - 5s 67ms/step - loss: 0.8732 - accuracy: 0.7330 - val_loss: 0.8577 - val_accuracy: 0.7452\n",
            "data batch 1 trained\n"
          ],
          "name": "stdout"
        }
      ]
    },
    {
      "cell_type": "code",
      "metadata": {
        "id": "fmZ1gqSw2rMn",
        "outputId": "bf6ec703-8b8a-4840-b0d8-4ee8915aa4f8",
        "colab": {
          "base_uri": "https://localhost:8080/",
          "height": 181
        }
      },
      "source": [
        "myData.train_images = None\n",
        "myData.validate_images = None"
      ],
      "execution_count": 16,
      "outputs": [
        {
          "output_type": "error",
          "ename": "AttributeError",
          "evalue": "ignored",
          "traceback": [
            "\u001b[0;31m---------------------------------------------------------------------------\u001b[0m",
            "\u001b[0;31mAttributeError\u001b[0m                            Traceback (most recent call last)",
            "\u001b[0;32m<ipython-input-16-953860a02b55>\u001b[0m in \u001b[0;36m<module>\u001b[0;34m()\u001b[0m\n\u001b[0;32m----> 1\u001b[0;31m \u001b[0mmyData\u001b[0m\u001b[0;34m.\u001b[0m\u001b[0mtrain_images\u001b[0m \u001b[0;34m=\u001b[0m \u001b[0;32mNone\u001b[0m\u001b[0;34m\u001b[0m\u001b[0;34m\u001b[0m\u001b[0m\n\u001b[0m\u001b[1;32m      2\u001b[0m \u001b[0mmyData\u001b[0m\u001b[0;34m.\u001b[0m\u001b[0mvalidate_images\u001b[0m \u001b[0;34m=\u001b[0m \u001b[0;32mNone\u001b[0m\u001b[0;34m\u001b[0m\u001b[0;34m\u001b[0m\u001b[0m\n",
            "\u001b[0;31mAttributeError\u001b[0m: 'NoneType' object has no attribute 'train_images'"
          ]
        }
      ]
    },
    {
      "cell_type": "code",
      "metadata": {
        "id": "dk4ndf3c1N0i"
      },
      "source": [
        "# training process, manually\n",
        "epoch_num = 5\n",
        "myData = DR_resized(True, 2)\n",
        "print(\"data batch %d loaded\" % 2)\n",
        "myModel.train(myData.train_images, myData.train_labels, myData.validate_images, myData.validate_labels, epoch_num)\n",
        "print(\"data batch %d trained\" % 2)\n",
        "# del myData\n",
        "myData = None"
      ],
      "execution_count": null,
      "outputs": []
    },
    {
      "cell_type": "code",
      "metadata": {
        "id": "JZIq7lGE1QO-"
      },
      "source": [
        "# training process, manually\n",
        "epoch_num = 5\n",
        "myData = DR_resized(True, 3)\n",
        "print(\"data batch %d loaded\" % 3)\n",
        "myModel.train(myData.train_images, myData.train_labels, myData.validate_images, myData.validate_labels, epoch_num)\n",
        "print(\"data batch %d trained\" % 3)\n",
        "# del myData\n",
        "myData = None"
      ],
      "execution_count": null,
      "outputs": []
    },
    {
      "cell_type": "code",
      "metadata": {
        "id": "hEBgXd1C1SY3"
      },
      "source": [
        "# training process, manually\n",
        "epoch_num = 5\n",
        "myData = DR_resized(True, 4)\n",
        "print(\"data batch %d loaded\" % 4)\n",
        "myModel.train(myData.train_images, myData.train_labels, myData.validate_images, myData.validate_labels, epoch_num)\n",
        "print(\"data batch %d trained\" % 4)\n",
        "# del myData\n",
        "myData = None"
      ],
      "execution_count": null,
      "outputs": []
    },
    {
      "cell_type": "code",
      "metadata": {
        "id": "0svWpVPkiUsK"
      },
      "source": [
        "# testing process\n",
        "file_num = 2\n",
        "num_list = []\n",
        "acc_list = []\n",
        "for i in range(file_num):\n",
        "  myData = DR_resized(False, i)\n",
        "  num, acc = myModel.evaluate(myData.test_images, myData.test_labels)\n",
        "  print(num, acc)\n",
        "  num_list.append(num)\n",
        "  acc_list.append(acc)\n",
        "  del myData"
      ],
      "execution_count": null,
      "outputs": []
    },
    {
      "cell_type": "code",
      "metadata": {
        "id": "bqL9za1Dkqjy"
      },
      "source": [
        "# compute overall accuracy\n",
        "num_list = np.array(num_list)\n",
        "acc_list = np.array(acc_list)\n",
        "acc_overall = (num_list * acc_list).sum() / num_list.sum()\n",
        "print(acc_overall)"
      ],
      "execution_count": null,
      "outputs": []
    },
    {
      "cell_type": "code",
      "metadata": {
        "id": "KBuQpdk7vC25",
        "colab": {
          "base_uri": "https://localhost:8080/"
        },
        "outputId": "3674b96d-c7dd-4ec3-b5b1-305d688274ff"
      },
      "source": [
        "from datetime import datetime\n",
        "now = datetime.now()\n",
        "dt_string = now.strftime(\"%d/%m/%Y %H:%M:%S\")\n",
        "print(\"date and time =\", dt_string)\n",
        "myModel.save_model(os.path.join(project_root, \"Trained Models\", dt_string))"
      ],
      "execution_count": null,
      "outputs": [
        {
          "output_type": "stream",
          "text": [
            "INFO:tensorflow:Assets written to: ./drive/MyDrive/CS 766 Project/Project Coding and Data Files/Trained Models/tmp/assets\n"
          ],
          "name": "stdout"
        }
      ]
    },
    {
      "cell_type": "code",
      "metadata": {
        "id": "J2QDEecGwGTv"
      },
      "source": [
        "myModel.load_model(os.path.join(project_root, \"Trained Models\", \"tmp\"))"
      ],
      "execution_count": null,
      "outputs": []
    }
  ]
}