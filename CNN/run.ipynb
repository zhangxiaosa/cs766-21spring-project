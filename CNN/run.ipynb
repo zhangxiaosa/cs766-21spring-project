{
  "nbformat": 4,
  "nbformat_minor": 0,
  "metadata": {
    "kernelspec": {
      "display_name": "Python 3",
      "language": "python",
      "name": "python3"
    },
    "language_info": {
      "codemirror_mode": {
        "name": "ipython",
        "version": 3
      },
      "file_extension": ".py",
      "mimetype": "text/x-python",
      "name": "python",
      "nbconvert_exporter": "python",
      "pygments_lexer": "ipython3",
      "version": "3.6.10"
    },
    "colab": {
      "name": "run.ipynb",
      "provenance": []
    },
    "accelerator": "GPU"
  },
  "cells": [
    {
      "cell_type": "code",
      "metadata": {
        "id": "dGoAP5Dn3DwQ"
      },
      "source": [
        "import tensorflow as tf\n",
        "from tensorflow.keras import datasets, layers, models\n",
        "import matplotlib.pyplot as plt\n",
        "import numpy as np\n",
        "import os, re, sys\n",
        "from sklearn.model_selection import train_test_split"
      ],
      "execution_count": 1,
      "outputs": []
    },
    {
      "cell_type": "code",
      "metadata": {
        "colab": {
          "base_uri": "https://localhost:8080/"
        },
        "id": "bYucCZeH_dHH",
        "outputId": "34120431-9a16-4e51-86a2-f3e819f15dee"
      },
      "source": [
        "# test if GPUs are available\n",
        "device_name = tf.test.gpu_device_name()\n",
        "if device_name != '/device:GPU:0':\n",
        "  raise SystemError('GPU device not found')\n",
        "print('Found GPU at: {}'.format(device_name))"
      ],
      "execution_count": 2,
      "outputs": [
        {
          "output_type": "stream",
          "text": [
            "Found GPU at: /device:GPU:0\n"
          ],
          "name": "stdout"
        }
      ]
    },
    {
      "cell_type": "code",
      "metadata": {
        "colab": {
          "base_uri": "https://localhost:8080/"
        },
        "id": "BUiMh4isCHnS",
        "outputId": "37b02216-886c-4285-b5dc-b3449f3c9e55"
      },
      "source": [
        "from google.colab import drive\n",
        "drive.mount('/content/drive')"
      ],
      "execution_count": 3,
      "outputs": [
        {
          "output_type": "stream",
          "text": [
            "Mounted at /content/drive\n"
          ],
          "name": "stdout"
        }
      ]
    },
    {
      "cell_type": "code",
      "metadata": {
        "id": "UJQvxwJFDmYk"
      },
      "source": [
        "# set project root, maybe you need to firstly \n",
        "# add shortcut of CS 766 Project to drive.\n",
        "project_root = './drive/MyDrive/CS 766 Project/Project Coding and Data Files'"
      ],
      "execution_count": 4,
      "outputs": []
    },
    {
      "cell_type": "code",
      "metadata": {
        "id": "qtTFq7ecjxXi",
        "outputId": "7f54db7c-df34-4dd4-bbf5-772e0dab59a6",
        "colab": {
          "base_uri": "https://localhost:8080/"
        }
      },
      "source": [
        "images = np.load(os.path.join(project_root, \"Data Batches\", \"Xtrain_Batch0.npy\"), allow_pickle=True);\n",
        "print(images.shape)"
      ],
      "execution_count": 6,
      "outputs": [
        {
          "output_type": "stream",
          "text": [
            "(3118,)\n"
          ],
          "name": "stdout"
        }
      ]
    },
    {
      "cell_type": "code",
      "metadata": {
        "id": "A452qYkomtJy",
        "outputId": "30b18388-0638-42f6-8f5b-82211b6394f8",
        "colab": {
          "base_uri": "https://localhost:8080/"
        }
      },
      "source": [
        "print(images.shape)\n",
        "print(images[0].shape)\n",
        "print(images[1].shape)\n",
        "print(images[2].shape)"
      ],
      "execution_count": 15,
      "outputs": [
        {
          "output_type": "stream",
          "text": [
            "(3118,)\n",
            "(683, 1024, 3)\n",
            "(1024, 1024, 3)\n",
            "(807, 1024, 3)\n"
          ],
          "name": "stdout"
        }
      ]
    },
    {
      "cell_type": "code",
      "metadata": {
        "id": "GGJsefpJ-XjF"
      },
      "source": [
        "# class to initialize CNNs\n",
        "class OriginCNN(object):\n",
        "  \"\"\"docstring for OriginCNN\"\"\"\n",
        "  def __init__(self):\n",
        "    self.optimizer = 'adam'\n",
        "    self.loss = tf.keras.losses.SparseCategoricalCrossentropy(from_logits=True)\n",
        "    # will add more properties\n",
        "\n",
        "\n",
        "  def build(self):\n",
        "    model = models.Sequential()\n",
        "    model.add(layers.Conv2D(32, (3, 3), strides=(3,3), activation='relu', input_shape=(224, 224, 1)))\n",
        "    model.add(layers.MaxPooling2D((2, 2)))\n",
        "    model.add(layers.Conv2D(32, (3, 3), strides=(3,3), activation='relu'))\n",
        "    model.add(layers.MaxPooling2D((2, 2)))\n",
        "    model.add(layers.Conv2D(32, (3, 3), strides=(3,3), activation='relu'))\n",
        "    model.add(layers.MaxPooling2D((2, 2)))\n",
        "\n",
        "    model.add(layers.Flatten())\n",
        "    model.add(layers.Dense(32, activation='relu'))\n",
        "    model.add(layers.Dense(2))\n",
        "\n",
        "    model.summary()\n",
        "    model.compile(optimizer=self.optimizer,\n",
        "                loss=self.loss,\n",
        "                metrics=['accuracy'])\n",
        "    self.model = model\n",
        "\n",
        "\n",
        "  def train(self, train_images, train_labels, test_images, test_labels, epochs):\n",
        "    self.history = self.model.fit(train_images, train_labels, epochs=epochs, \n",
        "        validation_data=(test_images, test_labels))\n",
        "\n",
        "\n",
        "  def evaluate(self, test_images, test_labels):\n",
        "    plt.plot(self.history.history['accuracy'], label='accuracy')\n",
        "    plt.plot(self.history.history['val_accuracy'], label = 'val_accuracy')\n",
        "    plt.xlabel('Epoch')\n",
        "    plt.ylabel('Accuracy')\n",
        "    plt.ylim([0.5, 1])\n",
        "    plt.legend(loc='lower right')\n",
        "\n",
        "    test_loss, test_acc = self.model.evaluate(test_images, test_labels, verbose=2)\n",
        "\n",
        "    print(test_acc)\n",
        "\n",
        "  def save_model(self, filepath):\n",
        "    self.model.save(filepath)\n",
        "\n",
        "  def load_model(self, filepath):\n",
        "    self.model = tf.keras.models.load_model(filepath)"
      ],
      "execution_count": 86,
      "outputs": []
    },
    {
      "cell_type": "code",
      "metadata": {
        "id": "V3suc98v-bRj"
      },
      "source": [
        "class DR_resized(object):\n",
        "  \"\"\"docstring for DR_resized\"\"\"\n",
        "  def __init__(self):\n",
        "    # all_images = np.load(\"Data Batches/Xtrain_Batch0.npy\", allow_pickle=True)\n",
        "    # all_labels = np.load(\"Data Batches/Ytrain_Batch0.npy\", allow_pickle=True)\n",
        "    # print(all_images.shape)\n",
        "    # print(all_labels.shape)\n",
        "    # self.train_images = np.load(\"Data Batches/Xtrain_Batch0.npy\", allow_pickle=True)\n",
        "    # self.train_labels = np.load(\"Data Batches/Ytrain_Batch0.npy\")\n",
        "    # self.test_images = np.load(\"Data Batches/Xtest_Batch.npy\")\n",
        "    # self.test_labels = np.load(\"Data Batches/Ytest_Batch.npy\")\n",
        "    # print(type(self.train_images))\n",
        "    image_list = []\n",
        "    label_list = []\n",
        "    image_num = 100\n",
        "    for i in range(image_num):\n",
        "        img = np.random.rand(224, 224)\n",
        "        label = 0 if np.random.random() > 0.5 else 1\n",
        "        image_list.append(img)\n",
        "        label_list.append(label)\n",
        "    \n",
        "    all_images = np.array(image_list)\n",
        "    all_images = np.reshape(all_images, (image_num, 224, 224, 1))\n",
        "    all_label = np.array(label_list)\n",
        "    \n",
        "    self.train_images, self.test_images, self.train_labels, self.test_labels \\\n",
        "    = train_test_split(all_images, all_label, test_size=0.2, random_state=9876)\n"
      ],
      "execution_count": 47,
      "outputs": []
    },
    {
      "cell_type": "code",
      "metadata": {
        "id": "xOADsxqM3DwR"
      },
      "source": [
        "myModel = OriginCNN()"
      ],
      "execution_count": 111,
      "outputs": []
    },
    {
      "cell_type": "code",
      "metadata": {
        "scrolled": true,
        "id": "EZDt94Ax3DwS"
      },
      "source": [
        "myData = DR_resized()"
      ],
      "execution_count": 104,
      "outputs": []
    },
    {
      "cell_type": "code",
      "metadata": {
        "colab": {
          "base_uri": "https://localhost:8080/"
        },
        "id": "SH9uGSrZ3DwS",
        "outputId": "a3605684-8013-4bc4-ce8b-517fbe8fa5fc"
      },
      "source": [
        "myModel.build()"
      ],
      "execution_count": 112,
      "outputs": [
        {
          "output_type": "stream",
          "text": [
            "Model: \"sequential_11\"\n",
            "_________________________________________________________________\n",
            "Layer (type)                 Output Shape              Param #   \n",
            "=================================================================\n",
            "conv2d_33 (Conv2D)           (None, 74, 74, 32)        320       \n",
            "_________________________________________________________________\n",
            "max_pooling2d_33 (MaxPooling (None, 37, 37, 32)        0         \n",
            "_________________________________________________________________\n",
            "conv2d_34 (Conv2D)           (None, 12, 12, 32)        9248      \n",
            "_________________________________________________________________\n",
            "max_pooling2d_34 (MaxPooling (None, 6, 6, 32)          0         \n",
            "_________________________________________________________________\n",
            "conv2d_35 (Conv2D)           (None, 2, 2, 32)          9248      \n",
            "_________________________________________________________________\n",
            "max_pooling2d_35 (MaxPooling (None, 1, 1, 32)          0         \n",
            "_________________________________________________________________\n",
            "flatten_11 (Flatten)         (None, 32)                0         \n",
            "_________________________________________________________________\n",
            "dense_22 (Dense)             (None, 32)                1056      \n",
            "_________________________________________________________________\n",
            "dense_23 (Dense)             (None, 2)                 66        \n",
            "=================================================================\n",
            "Total params: 19,938\n",
            "Trainable params: 19,938\n",
            "Non-trainable params: 0\n",
            "_________________________________________________________________\n"
          ],
          "name": "stdout"
        }
      ]
    },
    {
      "cell_type": "code",
      "metadata": {
        "colab": {
          "base_uri": "https://localhost:8080/"
        },
        "id": "LrJnfPqP3DwS",
        "outputId": "3bdbdcf4-097d-42da-bbfb-33b801bda092"
      },
      "source": [
        "myModel.train(myData.train_images, myData.train_labels, myData.test_images, myData.test_labels, 100)"
      ],
      "execution_count": 106,
      "outputs": [
        {
          "output_type": "stream",
          "text": [
            "Epoch 1/100\n",
            "3/3 [==============================] - 1s 91ms/step - loss: 0.6961 - accuracy: 0.5844 - val_loss: 0.6933 - val_accuracy: 0.5000\n",
            "Epoch 2/100\n",
            "3/3 [==============================] - 0s 26ms/step - loss: 0.6943 - accuracy: 0.5023 - val_loss: 0.6912 - val_accuracy: 0.5000\n",
            "Epoch 3/100\n",
            "3/3 [==============================] - 0s 26ms/step - loss: 0.6933 - accuracy: 0.4648 - val_loss: 0.6910 - val_accuracy: 0.6500\n",
            "Epoch 4/100\n",
            "3/3 [==============================] - 0s 26ms/step - loss: 0.6923 - accuracy: 0.5852 - val_loss: 0.6939 - val_accuracy: 0.5000\n",
            "Epoch 5/100\n",
            "3/3 [==============================] - 0s 27ms/step - loss: 0.6889 - accuracy: 0.5023 - val_loss: 0.6915 - val_accuracy: 0.5000\n",
            "Epoch 6/100\n",
            "3/3 [==============================] - 0s 26ms/step - loss: 0.6881 - accuracy: 0.4828 - val_loss: 0.6905 - val_accuracy: 0.5000\n",
            "Epoch 7/100\n",
            "3/3 [==============================] - 0s 27ms/step - loss: 0.6827 - accuracy: 0.5297 - val_loss: 0.6898 - val_accuracy: 0.5000\n",
            "Epoch 8/100\n",
            "3/3 [==============================] - 0s 26ms/step - loss: 0.6781 - accuracy: 0.5492 - val_loss: 0.6903 - val_accuracy: 0.5000\n",
            "Epoch 9/100\n",
            "3/3 [==============================] - 0s 27ms/step - loss: 0.6760 - accuracy: 0.5250 - val_loss: 0.6884 - val_accuracy: 0.6000\n",
            "Epoch 10/100\n",
            "3/3 [==============================] - 0s 25ms/step - loss: 0.6710 - accuracy: 0.8336 - val_loss: 0.6881 - val_accuracy: 0.6000\n",
            "Epoch 11/100\n",
            "3/3 [==============================] - 0s 29ms/step - loss: 0.6669 - accuracy: 0.9484 - val_loss: 0.6881 - val_accuracy: 0.6500\n",
            "Epoch 12/100\n",
            "3/3 [==============================] - 0s 28ms/step - loss: 0.6660 - accuracy: 0.8359 - val_loss: 0.6890 - val_accuracy: 0.5000\n",
            "Epoch 13/100\n",
            "3/3 [==============================] - 0s 27ms/step - loss: 0.6640 - accuracy: 0.7664 - val_loss: 0.6889 - val_accuracy: 0.5000\n",
            "Epoch 14/100\n",
            "3/3 [==============================] - 0s 26ms/step - loss: 0.6566 - accuracy: 0.7766 - val_loss: 0.6914 - val_accuracy: 0.5000\n",
            "Epoch 15/100\n",
            "3/3 [==============================] - 0s 25ms/step - loss: 0.6562 - accuracy: 0.5062 - val_loss: 0.6901 - val_accuracy: 0.5000\n",
            "Epoch 16/100\n",
            "3/3 [==============================] - 0s 27ms/step - loss: 0.6480 - accuracy: 0.6242 - val_loss: 0.6886 - val_accuracy: 0.5000\n",
            "Epoch 17/100\n",
            "3/3 [==============================] - 0s 26ms/step - loss: 0.6440 - accuracy: 0.9820 - val_loss: 0.6874 - val_accuracy: 0.6000\n",
            "Epoch 18/100\n",
            "3/3 [==============================] - 0s 26ms/step - loss: 0.6382 - accuracy: 1.0000 - val_loss: 0.6873 - val_accuracy: 0.6000\n",
            "Epoch 19/100\n",
            "3/3 [==============================] - 0s 26ms/step - loss: 0.6319 - accuracy: 0.9695 - val_loss: 0.6919 - val_accuracy: 0.5000\n",
            "Epoch 20/100\n",
            "3/3 [==============================] - 0s 26ms/step - loss: 0.6292 - accuracy: 0.5297 - val_loss: 0.6921 - val_accuracy: 0.5000\n",
            "Epoch 21/100\n",
            "3/3 [==============================] - 0s 27ms/step - loss: 0.6199 - accuracy: 0.6086 - val_loss: 0.6851 - val_accuracy: 0.5500\n",
            "Epoch 22/100\n",
            "3/3 [==============================] - 0s 28ms/step - loss: 0.6088 - accuracy: 1.0000 - val_loss: 0.6839 - val_accuracy: 0.6000\n",
            "Epoch 23/100\n",
            "3/3 [==============================] - 0s 28ms/step - loss: 0.6006 - accuracy: 0.9938 - val_loss: 0.6836 - val_accuracy: 0.6000\n",
            "Epoch 24/100\n",
            "3/3 [==============================] - 0s 26ms/step - loss: 0.5920 - accuracy: 0.9820 - val_loss: 0.6836 - val_accuracy: 0.5000\n",
            "Epoch 25/100\n",
            "3/3 [==============================] - 0s 27ms/step - loss: 0.5807 - accuracy: 0.9875 - val_loss: 0.6889 - val_accuracy: 0.5000\n",
            "Epoch 26/100\n",
            "3/3 [==============================] - 0s 26ms/step - loss: 0.5712 - accuracy: 0.8953 - val_loss: 0.6813 - val_accuracy: 0.5500\n",
            "Epoch 27/100\n",
            "3/3 [==============================] - 0s 27ms/step - loss: 0.5524 - accuracy: 1.0000 - val_loss: 0.6783 - val_accuracy: 0.6000\n",
            "Epoch 28/100\n",
            "3/3 [==============================] - 0s 26ms/step - loss: 0.5442 - accuracy: 1.0000 - val_loss: 0.6849 - val_accuracy: 0.5000\n",
            "Epoch 29/100\n",
            "3/3 [==============================] - 0s 27ms/step - loss: 0.5383 - accuracy: 0.9820 - val_loss: 0.6754 - val_accuracy: 0.6000\n",
            "Epoch 30/100\n",
            "3/3 [==============================] - 0s 26ms/step - loss: 0.5086 - accuracy: 1.0000 - val_loss: 0.6824 - val_accuracy: 0.5000\n",
            "Epoch 31/100\n",
            "3/3 [==============================] - 0s 26ms/step - loss: 0.4968 - accuracy: 1.0000 - val_loss: 0.6800 - val_accuracy: 0.5000\n",
            "Epoch 32/100\n",
            "3/3 [==============================] - 0s 26ms/step - loss: 0.4693 - accuracy: 1.0000 - val_loss: 0.6699 - val_accuracy: 0.6500\n",
            "Epoch 33/100\n",
            "3/3 [==============================] - 0s 27ms/step - loss: 0.4518 - accuracy: 1.0000 - val_loss: 0.6726 - val_accuracy: 0.5500\n",
            "Epoch 34/100\n",
            "3/3 [==============================] - 0s 27ms/step - loss: 0.4352 - accuracy: 1.0000 - val_loss: 0.6672 - val_accuracy: 0.6000\n",
            "Epoch 35/100\n",
            "3/3 [==============================] - 0s 28ms/step - loss: 0.4076 - accuracy: 1.0000 - val_loss: 0.6632 - val_accuracy: 0.6000\n",
            "Epoch 36/100\n",
            "3/3 [==============================] - 0s 30ms/step - loss: 0.3783 - accuracy: 1.0000 - val_loss: 0.6589 - val_accuracy: 0.6500\n",
            "Epoch 37/100\n",
            "3/3 [==============================] - 0s 30ms/step - loss: 0.3464 - accuracy: 1.0000 - val_loss: 0.6607 - val_accuracy: 0.6500\n",
            "Epoch 38/100\n",
            "3/3 [==============================] - 0s 30ms/step - loss: 0.3362 - accuracy: 1.0000 - val_loss: 0.6512 - val_accuracy: 0.7000\n",
            "Epoch 39/100\n",
            "3/3 [==============================] - 0s 26ms/step - loss: 0.2985 - accuracy: 1.0000 - val_loss: 0.6757 - val_accuracy: 0.5000\n",
            "Epoch 40/100\n",
            "3/3 [==============================] - 0s 26ms/step - loss: 0.2872 - accuracy: 1.0000 - val_loss: 0.6442 - val_accuracy: 0.7000\n",
            "Epoch 41/100\n",
            "3/3 [==============================] - 0s 27ms/step - loss: 0.2442 - accuracy: 1.0000 - val_loss: 0.6402 - val_accuracy: 0.6000\n",
            "Epoch 42/100\n",
            "3/3 [==============================] - 0s 26ms/step - loss: 0.2153 - accuracy: 1.0000 - val_loss: 0.6412 - val_accuracy: 0.6500\n",
            "Epoch 43/100\n",
            "3/3 [==============================] - 0s 26ms/step - loss: 0.1937 - accuracy: 1.0000 - val_loss: 0.6356 - val_accuracy: 0.6000\n",
            "Epoch 44/100\n",
            "3/3 [==============================] - 0s 25ms/step - loss: 0.1701 - accuracy: 1.0000 - val_loss: 0.6357 - val_accuracy: 0.6500\n",
            "Epoch 45/100\n",
            "3/3 [==============================] - 0s 25ms/step - loss: 0.1447 - accuracy: 1.0000 - val_loss: 0.6664 - val_accuracy: 0.6000\n",
            "Epoch 46/100\n",
            "3/3 [==============================] - 0s 27ms/step - loss: 0.1401 - accuracy: 1.0000 - val_loss: 0.6246 - val_accuracy: 0.6000\n",
            "Epoch 47/100\n",
            "3/3 [==============================] - 0s 28ms/step - loss: 0.1156 - accuracy: 1.0000 - val_loss: 0.6320 - val_accuracy: 0.6500\n",
            "Epoch 48/100\n",
            "3/3 [==============================] - 0s 30ms/step - loss: 0.1008 - accuracy: 1.0000 - val_loss: 0.6482 - val_accuracy: 0.6000\n",
            "Epoch 49/100\n",
            "3/3 [==============================] - 0s 26ms/step - loss: 0.0865 - accuracy: 1.0000 - val_loss: 0.6166 - val_accuracy: 0.7000\n",
            "Epoch 50/100\n",
            "3/3 [==============================] - 0s 26ms/step - loss: 0.0726 - accuracy: 1.0000 - val_loss: 0.6128 - val_accuracy: 0.5500\n",
            "Epoch 51/100\n",
            "3/3 [==============================] - 0s 31ms/step - loss: 0.0620 - accuracy: 1.0000 - val_loss: 0.6226 - val_accuracy: 0.6500\n",
            "Epoch 52/100\n",
            "3/3 [==============================] - 0s 28ms/step - loss: 0.0540 - accuracy: 1.0000 - val_loss: 0.6307 - val_accuracy: 0.6000\n",
            "Epoch 53/100\n",
            "3/3 [==============================] - 0s 27ms/step - loss: 0.0454 - accuracy: 1.0000 - val_loss: 0.6070 - val_accuracy: 0.5500\n",
            "Epoch 54/100\n",
            "3/3 [==============================] - 0s 26ms/step - loss: 0.0420 - accuracy: 1.0000 - val_loss: 0.6026 - val_accuracy: 0.6000\n",
            "Epoch 55/100\n",
            "3/3 [==============================] - 0s 27ms/step - loss: 0.0356 - accuracy: 1.0000 - val_loss: 0.6436 - val_accuracy: 0.6000\n",
            "Epoch 56/100\n",
            "3/3 [==============================] - 0s 27ms/step - loss: 0.0325 - accuracy: 1.0000 - val_loss: 0.6009 - val_accuracy: 0.6500\n",
            "Epoch 57/100\n",
            "3/3 [==============================] - 0s 27ms/step - loss: 0.0275 - accuracy: 1.0000 - val_loss: 0.5996 - val_accuracy: 0.6000\n",
            "Epoch 58/100\n",
            "3/3 [==============================] - 0s 28ms/step - loss: 0.0243 - accuracy: 1.0000 - val_loss: 0.6156 - val_accuracy: 0.7000\n",
            "Epoch 59/100\n",
            "3/3 [==============================] - 0s 26ms/step - loss: 0.0220 - accuracy: 1.0000 - val_loss: 0.6179 - val_accuracy: 0.6500\n",
            "Epoch 60/100\n",
            "3/3 [==============================] - 0s 29ms/step - loss: 0.0206 - accuracy: 1.0000 - val_loss: 0.5980 - val_accuracy: 0.6000\n",
            "Epoch 61/100\n",
            "3/3 [==============================] - 0s 27ms/step - loss: 0.0183 - accuracy: 1.0000 - val_loss: 0.5995 - val_accuracy: 0.6500\n",
            "Epoch 62/100\n",
            "3/3 [==============================] - 0s 26ms/step - loss: 0.0164 - accuracy: 1.0000 - val_loss: 0.6238 - val_accuracy: 0.6000\n",
            "Epoch 63/100\n",
            "3/3 [==============================] - 0s 29ms/step - loss: 0.0147 - accuracy: 1.0000 - val_loss: 0.6124 - val_accuracy: 0.7000\n",
            "Epoch 64/100\n",
            "3/3 [==============================] - 0s 27ms/step - loss: 0.0140 - accuracy: 1.0000 - val_loss: 0.5962 - val_accuracy: 0.6000\n",
            "Epoch 65/100\n",
            "3/3 [==============================] - 0s 26ms/step - loss: 0.0128 - accuracy: 1.0000 - val_loss: 0.5974 - val_accuracy: 0.6500\n",
            "Epoch 66/100\n",
            "3/3 [==============================] - 0s 29ms/step - loss: 0.0117 - accuracy: 1.0000 - val_loss: 0.6176 - val_accuracy: 0.7000\n",
            "Epoch 67/100\n",
            "3/3 [==============================] - 0s 26ms/step - loss: 0.0107 - accuracy: 1.0000 - val_loss: 0.6127 - val_accuracy: 0.7000\n",
            "Epoch 68/100\n",
            "3/3 [==============================] - 0s 26ms/step - loss: 0.0098 - accuracy: 1.0000 - val_loss: 0.5951 - val_accuracy: 0.6500\n",
            "Epoch 69/100\n",
            "3/3 [==============================] - 0s 25ms/step - loss: 0.0094 - accuracy: 1.0000 - val_loss: 0.5938 - val_accuracy: 0.6000\n",
            "Epoch 70/100\n",
            "3/3 [==============================] - 0s 27ms/step - loss: 0.0092 - accuracy: 1.0000 - val_loss: 0.6067 - val_accuracy: 0.6500\n",
            "Epoch 71/100\n",
            "3/3 [==============================] - 0s 29ms/step - loss: 0.0083 - accuracy: 1.0000 - val_loss: 0.6177 - val_accuracy: 0.7000\n",
            "Epoch 72/100\n",
            "3/3 [==============================] - 0s 30ms/step - loss: 0.0078 - accuracy: 1.0000 - val_loss: 0.6004 - val_accuracy: 0.6500\n",
            "Epoch 73/100\n",
            "3/3 [==============================] - 0s 29ms/step - loss: 0.0071 - accuracy: 1.0000 - val_loss: 0.5945 - val_accuracy: 0.6500\n",
            "Epoch 74/100\n",
            "3/3 [==============================] - 0s 28ms/step - loss: 0.0072 - accuracy: 1.0000 - val_loss: 0.5962 - val_accuracy: 0.7000\n",
            "Epoch 75/100\n",
            "3/3 [==============================] - 0s 27ms/step - loss: 0.0067 - accuracy: 1.0000 - val_loss: 0.6007 - val_accuracy: 0.6500\n",
            "Epoch 76/100\n",
            "3/3 [==============================] - 0s 27ms/step - loss: 0.0063 - accuracy: 1.0000 - val_loss: 0.6132 - val_accuracy: 0.7000\n",
            "Epoch 77/100\n",
            "3/3 [==============================] - 0s 28ms/step - loss: 0.0060 - accuracy: 1.0000 - val_loss: 0.6097 - val_accuracy: 0.7000\n",
            "Epoch 78/100\n",
            "3/3 [==============================] - 0s 28ms/step - loss: 0.0057 - accuracy: 1.0000 - val_loss: 0.6019 - val_accuracy: 0.6500\n",
            "Epoch 79/100\n",
            "3/3 [==============================] - 0s 27ms/step - loss: 0.0053 - accuracy: 1.0000 - val_loss: 0.6000 - val_accuracy: 0.6500\n",
            "Epoch 80/100\n",
            "3/3 [==============================] - 0s 27ms/step - loss: 0.0052 - accuracy: 1.0000 - val_loss: 0.6012 - val_accuracy: 0.6500\n",
            "Epoch 81/100\n",
            "3/3 [==============================] - 0s 27ms/step - loss: 0.0049 - accuracy: 1.0000 - val_loss: 0.6009 - val_accuracy: 0.6500\n",
            "Epoch 82/100\n",
            "3/3 [==============================] - 0s 27ms/step - loss: 0.0047 - accuracy: 1.0000 - val_loss: 0.6015 - val_accuracy: 0.6500\n",
            "Epoch 83/100\n",
            "3/3 [==============================] - 0s 26ms/step - loss: 0.0045 - accuracy: 1.0000 - val_loss: 0.6022 - val_accuracy: 0.6500\n",
            "Epoch 84/100\n",
            "3/3 [==============================] - 0s 27ms/step - loss: 0.0043 - accuracy: 1.0000 - val_loss: 0.5975 - val_accuracy: 0.6500\n",
            "Epoch 85/100\n",
            "3/3 [==============================] - 0s 26ms/step - loss: 0.0041 - accuracy: 1.0000 - val_loss: 0.5975 - val_accuracy: 0.6500\n",
            "Epoch 86/100\n",
            "3/3 [==============================] - 0s 27ms/step - loss: 0.0039 - accuracy: 1.0000 - val_loss: 0.6055 - val_accuracy: 0.6500\n",
            "Epoch 87/100\n",
            "3/3 [==============================] - 0s 27ms/step - loss: 0.0038 - accuracy: 1.0000 - val_loss: 0.6144 - val_accuracy: 0.7000\n",
            "Epoch 88/100\n",
            "3/3 [==============================] - 0s 26ms/step - loss: 0.0036 - accuracy: 1.0000 - val_loss: 0.6118 - val_accuracy: 0.7000\n",
            "Epoch 89/100\n",
            "3/3 [==============================] - 0s 27ms/step - loss: 0.0036 - accuracy: 1.0000 - val_loss: 0.5996 - val_accuracy: 0.6500\n",
            "Epoch 90/100\n",
            "3/3 [==============================] - 0s 26ms/step - loss: 0.0033 - accuracy: 1.0000 - val_loss: 0.5990 - val_accuracy: 0.6500\n",
            "Epoch 91/100\n",
            "3/3 [==============================] - 0s 27ms/step - loss: 0.0033 - accuracy: 1.0000 - val_loss: 0.6011 - val_accuracy: 0.6500\n",
            "Epoch 92/100\n",
            "3/3 [==============================] - 0s 28ms/step - loss: 0.0032 - accuracy: 1.0000 - val_loss: 0.6024 - val_accuracy: 0.6500\n",
            "Epoch 93/100\n",
            "3/3 [==============================] - 0s 30ms/step - loss: 0.0031 - accuracy: 1.0000 - val_loss: 0.6053 - val_accuracy: 0.6500\n",
            "Epoch 94/100\n",
            "3/3 [==============================] - 0s 25ms/step - loss: 0.0029 - accuracy: 1.0000 - val_loss: 0.6095 - val_accuracy: 0.7000\n",
            "Epoch 95/100\n",
            "3/3 [==============================] - 0s 31ms/step - loss: 0.0028 - accuracy: 1.0000 - val_loss: 0.6095 - val_accuracy: 0.7000\n",
            "Epoch 96/100\n",
            "3/3 [==============================] - 0s 28ms/step - loss: 0.0028 - accuracy: 1.0000 - val_loss: 0.6032 - val_accuracy: 0.6500\n",
            "Epoch 97/100\n",
            "3/3 [==============================] - 0s 27ms/step - loss: 0.0027 - accuracy: 1.0000 - val_loss: 0.5971 - val_accuracy: 0.6500\n",
            "Epoch 98/100\n",
            "3/3 [==============================] - 0s 28ms/step - loss: 0.0026 - accuracy: 1.0000 - val_loss: 0.5941 - val_accuracy: 0.6500\n",
            "Epoch 99/100\n",
            "3/3 [==============================] - 0s 26ms/step - loss: 0.0025 - accuracy: 1.0000 - val_loss: 0.5971 - val_accuracy: 0.6500\n",
            "Epoch 100/100\n",
            "3/3 [==============================] - 0s 27ms/step - loss: 0.0024 - accuracy: 1.0000 - val_loss: 0.6073 - val_accuracy: 0.6500\n"
          ],
          "name": "stdout"
        }
      ]
    },
    {
      "cell_type": "code",
      "metadata": {
        "colab": {
          "base_uri": "https://localhost:8080/",
          "height": 283
        },
        "id": "aEFWYpJj3DwT",
        "outputId": "e6a32c23-4837-4bdf-8d58-3a6cf416bd6a"
      },
      "source": [
        "myModel.evaluate(myData.test_images, myData.test_labels)"
      ],
      "execution_count": 116,
      "outputs": [
        {
          "output_type": "error",
          "ename": "AttributeError",
          "evalue": "ignored",
          "traceback": [
            "\u001b[0;31m---------------------------------------------------------------------------\u001b[0m",
            "\u001b[0;31mAttributeError\u001b[0m                            Traceback (most recent call last)",
            "\u001b[0;32m<ipython-input-116-d025e3ee1406>\u001b[0m in \u001b[0;36m<module>\u001b[0;34m()\u001b[0m\n\u001b[0;32m----> 1\u001b[0;31m \u001b[0mmyModel\u001b[0m\u001b[0;34m.\u001b[0m\u001b[0mevaluate\u001b[0m\u001b[0;34m(\u001b[0m\u001b[0mmyData\u001b[0m\u001b[0;34m.\u001b[0m\u001b[0mtest_images\u001b[0m\u001b[0;34m,\u001b[0m \u001b[0mmyData\u001b[0m\u001b[0;34m.\u001b[0m\u001b[0mtest_labels\u001b[0m\u001b[0;34m)\u001b[0m\u001b[0;34m\u001b[0m\u001b[0;34m\u001b[0m\u001b[0m\n\u001b[0m",
            "\u001b[0;32m<ipython-input-86-39c92bbb6a01>\u001b[0m in \u001b[0;36mevaluate\u001b[0;34m(self, test_images, test_labels)\u001b[0m\n\u001b[1;32m     34\u001b[0m \u001b[0;34m\u001b[0m\u001b[0m\n\u001b[1;32m     35\u001b[0m   \u001b[0;32mdef\u001b[0m \u001b[0mevaluate\u001b[0m\u001b[0;34m(\u001b[0m\u001b[0mself\u001b[0m\u001b[0;34m,\u001b[0m \u001b[0mtest_images\u001b[0m\u001b[0;34m,\u001b[0m \u001b[0mtest_labels\u001b[0m\u001b[0;34m)\u001b[0m\u001b[0;34m:\u001b[0m\u001b[0;34m\u001b[0m\u001b[0;34m\u001b[0m\u001b[0m\n\u001b[0;32m---> 36\u001b[0;31m     \u001b[0mplt\u001b[0m\u001b[0;34m.\u001b[0m\u001b[0mplot\u001b[0m\u001b[0;34m(\u001b[0m\u001b[0mself\u001b[0m\u001b[0;34m.\u001b[0m\u001b[0mhistory\u001b[0m\u001b[0;34m.\u001b[0m\u001b[0mhistory\u001b[0m\u001b[0;34m[\u001b[0m\u001b[0;34m'accuracy'\u001b[0m\u001b[0;34m]\u001b[0m\u001b[0;34m,\u001b[0m \u001b[0mlabel\u001b[0m\u001b[0;34m=\u001b[0m\u001b[0;34m'accuracy'\u001b[0m\u001b[0;34m)\u001b[0m\u001b[0;34m\u001b[0m\u001b[0;34m\u001b[0m\u001b[0m\n\u001b[0m\u001b[1;32m     37\u001b[0m     \u001b[0mplt\u001b[0m\u001b[0;34m.\u001b[0m\u001b[0mplot\u001b[0m\u001b[0;34m(\u001b[0m\u001b[0mself\u001b[0m\u001b[0;34m.\u001b[0m\u001b[0mhistory\u001b[0m\u001b[0;34m.\u001b[0m\u001b[0mhistory\u001b[0m\u001b[0;34m[\u001b[0m\u001b[0;34m'val_accuracy'\u001b[0m\u001b[0;34m]\u001b[0m\u001b[0;34m,\u001b[0m \u001b[0mlabel\u001b[0m \u001b[0;34m=\u001b[0m \u001b[0;34m'val_accuracy'\u001b[0m\u001b[0;34m)\u001b[0m\u001b[0;34m\u001b[0m\u001b[0;34m\u001b[0m\u001b[0m\n\u001b[1;32m     38\u001b[0m     \u001b[0mplt\u001b[0m\u001b[0;34m.\u001b[0m\u001b[0mxlabel\u001b[0m\u001b[0;34m(\u001b[0m\u001b[0;34m'Epoch'\u001b[0m\u001b[0;34m)\u001b[0m\u001b[0;34m\u001b[0m\u001b[0;34m\u001b[0m\u001b[0m\n",
            "\u001b[0;31mAttributeError\u001b[0m: 'OriginCNN' object has no attribute 'history'"
          ]
        }
      ]
    },
    {
      "cell_type": "code",
      "metadata": {
        "id": "CURpMisHtV_k",
        "outputId": "51d5622f-ff32-4c9e-8125-e73eada7ede7",
        "colab": {
          "base_uri": "https://localhost:8080/"
        }
      },
      "source": [
        "myModel.model.predict_classes(myData.train_images)"
      ],
      "execution_count": 115,
      "outputs": [
        {
          "output_type": "stream",
          "text": [
            "WARNING:tensorflow:5 out of the last 13 calls to <function Model.make_predict_function.<locals>.predict_function at 0x7fce8c9c83b0> triggered tf.function retracing. Tracing is expensive and the excessive number of tracings could be due to (1) creating @tf.function repeatedly in a loop, (2) passing tensors with different shapes, (3) passing Python objects instead of tensors. For (1), please define your @tf.function outside of the loop. For (2), @tf.function has experimental_relax_shapes=True option that relaxes argument shapes that can avoid unnecessary retracing. For (3), please refer to https://www.tensorflow.org/guide/function#controlling_retracing and https://www.tensorflow.org/api_docs/python/tf/function for  more details.\n"
          ],
          "name": "stdout"
        },
        {
          "output_type": "stream",
          "text": [
            "/usr/local/lib/python3.7/dist-packages/tensorflow/python/keras/engine/sequential.py:450: UserWarning: `model.predict_classes()` is deprecated and will be removed after 2021-01-01. Please use instead:* `np.argmax(model.predict(x), axis=-1)`,   if your model does multi-class classification   (e.g. if it uses a `softmax` last-layer activation).* `(model.predict(x) > 0.5).astype(\"int32\")`,   if your model does binary classification   (e.g. if it uses a `sigmoid` last-layer activation).\n",
            "  warnings.warn('`model.predict_classes()` is deprecated and '\n"
          ],
          "name": "stderr"
        },
        {
          "output_type": "execute_result",
          "data": {
            "text/plain": [
              "array([0, 0, 0, 1, 0, 1, 1, 0, 0, 1, 0, 0, 0, 1, 0, 1, 1, 1, 1, 0, 0, 0,\n",
              "       1, 1, 0, 1, 1, 1, 1, 0, 0, 1, 1, 0, 0, 1, 0, 1, 0, 1, 0, 0, 0, 0,\n",
              "       0, 1, 0, 1, 0, 1, 1, 0, 1, 0, 1, 1, 1, 1, 1, 0, 0, 1, 1, 1, 0, 1,\n",
              "       1, 1, 0, 0, 0, 1, 1, 0, 0, 1, 0, 1, 1, 0])"
            ]
          },
          "metadata": {
            "tags": []
          },
          "execution_count": 115
        }
      ]
    },
    {
      "cell_type": "code",
      "metadata": {
        "id": "4EjYQNC2tzDx",
        "outputId": "d8b44812-d50b-4445-ea44-b6ae92c8d727",
        "colab": {
          "base_uri": "https://localhost:8080/"
        }
      },
      "source": [
        "print(myData.train_labels)"
      ],
      "execution_count": 109,
      "outputs": [
        {
          "output_type": "stream",
          "text": [
            "[0 0 0 1 0 1 1 0 0 1 0 0 0 1 0 1 1 1 1 0 0 0 1 1 0 1 1 1 1 0 0 1 1 0 0 1 0\n",
            " 1 0 1 0 0 0 0 0 1 0 1 0 1 1 0 1 0 1 1 1 1 1 0 0 1 1 1 0 1 1 1 0 0 0 1 1 0\n",
            " 0 1 0 1 1 0]\n"
          ],
          "name": "stdout"
        }
      ]
    },
    {
      "cell_type": "code",
      "metadata": {
        "id": "KBuQpdk7vC25",
        "outputId": "3674b96d-c7dd-4ec3-b5b1-305d688274ff",
        "colab": {
          "base_uri": "https://localhost:8080/"
        }
      },
      "source": [
        "myModel.save_model(os.path.join(project_root, \"Trained Models\", \"tmp\"))"
      ],
      "execution_count": 110,
      "outputs": [
        {
          "output_type": "stream",
          "text": [
            "INFO:tensorflow:Assets written to: ./drive/MyDrive/CS 766 Project/Project Coding and Data Files/Trained Models/tmp/assets\n"
          ],
          "name": "stdout"
        }
      ]
    },
    {
      "cell_type": "code",
      "metadata": {
        "id": "J2QDEecGwGTv"
      },
      "source": [
        "myModel.load_model(os.path.join(project_root, \"Trained Models\", \"tmp\"))"
      ],
      "execution_count": 114,
      "outputs": []
    }
  ]
}