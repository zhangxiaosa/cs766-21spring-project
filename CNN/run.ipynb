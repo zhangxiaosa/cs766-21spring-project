{
  "nbformat": 4,
  "nbformat_minor": 0,
  "metadata": {
    "kernelspec": {
      "display_name": "Python 3",
      "language": "python",
      "name": "python3"
    },
    "language_info": {
      "codemirror_mode": {
        "name": "ipython",
        "version": 3
      },
      "file_extension": ".py",
      "mimetype": "text/x-python",
      "name": "python",
      "nbconvert_exporter": "python",
      "pygments_lexer": "ipython3",
      "version": "3.6.10"
    },
    "colab": {
      "name": "run.ipynb",
      "provenance": []
    },
    "accelerator": "GPU"
  },
  "cells": [
    {
      "cell_type": "code",
      "metadata": {
        "id": "dGoAP5Dn3DwQ"
      },
      "source": [
        "import tensorflow as tf\n",
        "from tensorflow.keras import datasets, layers, models\n",
        "import matplotlib.pyplot as plt\n",
        "import numpy as np\n",
        "import os, re, sys\n",
        "from sklearn.model_selection import train_test_split\n",
        "import skimage.io"
      ],
      "execution_count": 33,
      "outputs": []
    },
    {
      "cell_type": "code",
      "metadata": {
        "colab": {
          "base_uri": "https://localhost:8080/"
        },
        "id": "bYucCZeH_dHH",
        "outputId": "507c6742-2cc9-49bc-c099-c2edb78eb701"
      },
      "source": [
        "# test if GPUs are available\n",
        "device_name = tf.test.gpu_device_name()\n",
        "if device_name != '/device:GPU:0':\n",
        "  raise SystemError('GPU device not found')\n",
        "print('Found GPU at: {}'.format(device_name))"
      ],
      "execution_count": 3,
      "outputs": [
        {
          "output_type": "stream",
          "text": [
            "Found GPU at: /device:GPU:0\n"
          ],
          "name": "stdout"
        }
      ]
    },
    {
      "cell_type": "code",
      "metadata": {
        "colab": {
          "base_uri": "https://localhost:8080/"
        },
        "id": "BUiMh4isCHnS",
        "outputId": "121dbddb-8373-4535-cefa-81639b46e40f"
      },
      "source": [
        "from google.colab import drive\n",
        "drive.mount('/content/drive')"
      ],
      "execution_count": 4,
      "outputs": [
        {
          "output_type": "stream",
          "text": [
            "Drive already mounted at /content/drive; to attempt to forcibly remount, call drive.mount(\"/content/drive\", force_remount=True).\n"
          ],
          "name": "stdout"
        }
      ]
    },
    {
      "cell_type": "code",
      "metadata": {
        "id": "UJQvxwJFDmYk"
      },
      "source": [
        "# set project root, maybe you need to firstly \n",
        "# add shortcut of CS 766 Project to drive.\n",
        "project_root = './drive/MyDrive/CS 766 Project/Project Coding and Data Files'"
      ],
      "execution_count": 5,
      "outputs": []
    },
    {
      "cell_type": "code",
      "metadata": {
        "id": "GGJsefpJ-XjF"
      },
      "source": [
        "# class to initialize CNNs\n",
        "class OriginCNN(object):\n",
        "  \"\"\"docstring for OriginCNN\"\"\"\n",
        "  def __init__(self):\n",
        "    # self.optimizer = 'sgd'\n",
        "    self.optimizer = tf.keras.optimizers.SGD(lr=0.05, decay=1e-6, momentum=0.9, nesterov=True)\n",
        "    self.loss = tf.keras.losses.SparseCategoricalCrossentropy(from_logits=True)\n",
        "    # will add more properties\n",
        "\n",
        "\n",
        "  def build(self):\n",
        "    model = models.Sequential()\n",
        "    model.add(layers.Conv2D(32, (3, 3), strides=(3,3), activation='relu', input_shape=(1000, 1000, 1)))\n",
        "    model.add(layers.MaxPooling2D((2, 2)))\n",
        "    model.add(layers.Conv2D(32, (3, 3), strides=(3,3), activation='relu'))\n",
        "    model.add(layers.MaxPooling2D((2, 2)))\n",
        "    model.add(layers.Conv2D(32, (3, 3), strides=(3,3), activation='relu'))\n",
        "    model.add(layers.MaxPooling2D((2, 2)))\n",
        "\n",
        "    model.add(layers.Flatten())\n",
        "    model.add(layers.Dense(32, activation='sigmoid'))\n",
        "    model.add(layers.Dense(5))\n",
        "\n",
        "    model.summary()\n",
        "    model.compile(optimizer=self.optimizer,\n",
        "                loss=self.loss,\n",
        "                metrics=['accuracy'])\n",
        "    self.model = model\n",
        "\n",
        "\n",
        "  def train(self, train_images, train_labels, validate_images, validate_labels, epochs):\n",
        "    self.history = self.model.fit(train_images, train_labels, epochs=epochs, \n",
        "        validation_data=(validate_images, validate_labels))\n",
        "\n",
        "\n",
        "  def evaluate(self, test_images, test_labels):\n",
        "    plt.plot(self.history.history['accuracy'], label='accuracy')\n",
        "    plt.plot(self.history.history['val_accuracy'], label = 'val_accuracy')\n",
        "    plt.xlabel('Epoch')\n",
        "    plt.ylabel('Accuracy')\n",
        "    plt.ylim([0.5, 1])\n",
        "    plt.legend(loc='lower right')\n",
        "\n",
        "    test_loss, test_acc = self.model.evaluate(test_images, test_labels, verbose=2)\n",
        "\n",
        "    print(test_acc)\n",
        "\n",
        "  def save_model(self, filepath):\n",
        "    self.model.save(filepath)\n",
        "\n",
        "  def load_model(self, filepath):\n",
        "    self.model = tf.keras.models.load_model(filepath)"
      ],
      "execution_count": 130,
      "outputs": []
    },
    {
      "cell_type": "code",
      "metadata": {
        "id": "V3suc98v-bRj"
      },
      "source": [
        "class DR_resized(object):\n",
        "  \"\"\"docstring for DR_resized\"\"\"\n",
        "  def __init__(self):\n",
        "    # load images\n",
        "    all_images = np.load(os.path.join(project_root, \"Processed_Data_Batches\", \"Processed_Xtrain_Batch0.npy\"))\n",
        "    # add a dimension for channels\n",
        "    all_images = np.expand_dims(all_images, axis=-1)\n",
        "\n",
        "    # load labels\n",
        "    all_labels = np.load(os.path.join(project_root, \"Data Batches\", \"Ytrain_Batch0.npy\"), allow_pickle=True)\n",
        "    all_labels = np.array([item[1] for item in all_labels])\n",
        "    all_labels = np.expand_dims(all_labels, axis=-1)\n",
        "    \n",
        "    self.train_images, self.validate_images, self.train_labels, self.validate_labels \\\n",
        "    = train_test_split(all_images, all_labels, test_size=0.2, random_state=9876)\n"
      ],
      "execution_count": 45,
      "outputs": []
    },
    {
      "cell_type": "code",
      "metadata": {
        "id": "xOADsxqM3DwR"
      },
      "source": [
        "myModel = OriginCNN()"
      ],
      "execution_count": 136,
      "outputs": []
    },
    {
      "cell_type": "code",
      "metadata": {
        "scrolled": true,
        "id": "EZDt94Ax3DwS"
      },
      "source": [
        "myData = DR_resized()"
      ],
      "execution_count": 46,
      "outputs": []
    },
    {
      "cell_type": "code",
      "metadata": {
        "colab": {
          "base_uri": "https://localhost:8080/"
        },
        "id": "SH9uGSrZ3DwS",
        "outputId": "3845097f-4bb9-4735-f936-7cf6c2c432ad"
      },
      "source": [
        "myModel.build()"
      ],
      "execution_count": 137,
      "outputs": [
        {
          "output_type": "stream",
          "text": [
            "Model: \"sequential_16\"\n",
            "_________________________________________________________________\n",
            "Layer (type)                 Output Shape              Param #   \n",
            "=================================================================\n",
            "conv2d_48 (Conv2D)           (None, 333, 333, 32)      320       \n",
            "_________________________________________________________________\n",
            "max_pooling2d_48 (MaxPooling (None, 166, 166, 32)      0         \n",
            "_________________________________________________________________\n",
            "conv2d_49 (Conv2D)           (None, 55, 55, 32)        9248      \n",
            "_________________________________________________________________\n",
            "max_pooling2d_49 (MaxPooling (None, 27, 27, 32)        0         \n",
            "_________________________________________________________________\n",
            "conv2d_50 (Conv2D)           (None, 9, 9, 32)          9248      \n",
            "_________________________________________________________________\n",
            "max_pooling2d_50 (MaxPooling (None, 4, 4, 32)          0         \n",
            "_________________________________________________________________\n",
            "flatten_16 (Flatten)         (None, 512)               0         \n",
            "_________________________________________________________________\n",
            "dense_32 (Dense)             (None, 32)                16416     \n",
            "_________________________________________________________________\n",
            "dense_33 (Dense)             (None, 5)                 165       \n",
            "=================================================================\n",
            "Total params: 35,397\n",
            "Trainable params: 35,397\n",
            "Non-trainable params: 0\n",
            "_________________________________________________________________\n"
          ],
          "name": "stdout"
        }
      ]
    },
    {
      "cell_type": "code",
      "metadata": {
        "colab": {
          "base_uri": "https://localhost:8080/"
        },
        "id": "LrJnfPqP3DwS",
        "outputId": "42c09420-4e02-40a8-e967-b63bdf46aa32"
      },
      "source": [
        "myModel.train(myData.train_images, myData.train_labels, myData.validate_images, myData.validate_labels, 5)"
      ],
      "execution_count": 138,
      "outputs": [
        {
          "output_type": "stream",
          "text": [
            "Epoch 1/5\n",
            "78/78 [==============================] - 6s 69ms/step - loss: 0.9813 - accuracy: 0.6840 - val_loss: 0.8507 - val_accuracy: 0.7452\n",
            "Epoch 2/5\n",
            "78/78 [==============================] - 5s 67ms/step - loss: 0.8688 - accuracy: 0.7454 - val_loss: 0.8483 - val_accuracy: 0.7452\n",
            "Epoch 3/5\n",
            "78/78 [==============================] - 5s 67ms/step - loss: 0.8813 - accuracy: 0.7325 - val_loss: 0.8802 - val_accuracy: 0.7452\n",
            "Epoch 4/5\n",
            "78/78 [==============================] - 5s 67ms/step - loss: 0.9143 - accuracy: 0.7110 - val_loss: 0.8515 - val_accuracy: 0.7452\n",
            "Epoch 5/5\n",
            "78/78 [==============================] - 5s 67ms/step - loss: 0.8810 - accuracy: 0.7318 - val_loss: 0.8653 - val_accuracy: 0.7452\n"
          ],
          "name": "stdout"
        }
      ]
    },
    {
      "cell_type": "code",
      "metadata": {
        "colab": {
          "base_uri": "https://localhost:8080/",
          "height": 317
        },
        "id": "aEFWYpJj3DwT",
        "outputId": "696450f3-b175-414c-f484-f3416fb51a23"
      },
      "source": [
        "myModel.evaluate(myData.validate_images, myData.validate_labels)"
      ],
      "execution_count": 139,
      "outputs": [
        {
          "output_type": "stream",
          "text": [
            "20/20 - 1s - loss: 0.8653 - accuracy: 0.7452\n",
            "0.745192289352417\n"
          ],
          "name": "stdout"
        },
        {
          "output_type": "display_data",
          "data": {
            "image/png": "[encoded data removed]",
            "text/plain": [
              "<Figure size 432x288 with 1 Axes>"
            ]
          },
          "metadata": {
            "tags": [],
            "needs_background": "light"
          }
        }
      ]
    },
    {
      "cell_type": "code",
      "metadata": {
        "id": "KBuQpdk7vC25",
        "colab": {
          "base_uri": "https://localhost:8080/"
        },
        "outputId": "3674b96d-c7dd-4ec3-b5b1-305d688274ff"
      },
      "source": [
        "myModel.save_model(os.path.join(project_root, \"Trained Models\", \"tmp\"))"
      ],
      "execution_count": null,
      "outputs": [
        {
          "output_type": "stream",
          "text": [
            "INFO:tensorflow:Assets written to: ./drive/MyDrive/CS 766 Project/Project Coding and Data Files/Trained Models/tmp/assets\n"
          ],
          "name": "stdout"
        }
      ]
    },
    {
      "cell_type": "code",
      "metadata": {
        "id": "J2QDEecGwGTv"
      },
      "source": [
        "myModel.load_model(os.path.join(project_root, \"Trained Models\", \"tmp\"))"
      ],
      "execution_count": null,
      "outputs": []
    }
  ]
}