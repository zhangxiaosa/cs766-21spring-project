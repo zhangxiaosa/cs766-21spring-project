{
  "nbformat": 4,
  "nbformat_minor": 0,
  "metadata": {
    "kernelspec": {
      "display_name": "Python 3",
      "language": "python",
      "name": "python3"
    },
    "language_info": {
      "codemirror_mode": {
        "name": "ipython",
        "version": 3
      },
      "file_extension": ".py",
      "mimetype": "text/x-python",
      "name": "python",
      "nbconvert_exporter": "python",
      "pygments_lexer": "ipython3",
      "version": "3.6.10"
    },
    "colab": {
      "name": "run.ipynb",
      "provenance": []
    },
    "accelerator": "GPU"
  },
  "cells": [
    {
      "cell_type": "code",
      "metadata": {
        "id": "dGoAP5Dn3DwQ"
      },
      "source": [
        "import tensorflow as tf\n",
        "from tensorflow.keras import datasets, layers, models\n",
        "import matplotlib.pyplot as plt\n",
        "import numpy as np\n",
        "import os, re, sys\n",
        "from sklearn.model_selection import train_test_split"
      ],
      "execution_count": 1,
      "outputs": []
    },
    {
      "cell_type": "code",
      "metadata": {
        "colab": {
          "base_uri": "https://localhost:8080/"
        },
        "id": "bYucCZeH_dHH",
        "outputId": "90a7bc88-c78e-484a-eec9-f3e3c3c72587"
      },
      "source": [
        "# test if GPUs are available\n",
        "device_name = tf.test.gpu_device_name()\n",
        "if device_name != '/device:GPU:0':\n",
        "  raise SystemError('GPU device not found')\n",
        "print('Found GPU at: {}'.format(device_name))"
      ],
      "execution_count": 2,
      "outputs": [
        {
          "output_type": "stream",
          "text": [
            "Found GPU at: /device:GPU:0\n"
          ],
          "name": "stdout"
        }
      ]
    },
    {
      "cell_type": "code",
      "metadata": {
        "colab": {
          "base_uri": "https://localhost:8080/"
        },
        "id": "BUiMh4isCHnS",
        "outputId": "515a3ccb-568d-4f2d-930b-8ec9b4813e8b"
      },
      "source": [
        "from google.colab import drive\n",
        "drive.mount('/content/drive')"
      ],
      "execution_count": 3,
      "outputs": [
        {
          "output_type": "stream",
          "text": [
            "Mounted at /content/drive\n"
          ],
          "name": "stdout"
        }
      ]
    },
    {
      "cell_type": "code",
      "metadata": {
        "id": "UJQvxwJFDmYk"
      },
      "source": [
        "# set project root, maybe you need to firstly \n",
        "# add shortcut of CS 766 Project to drive.\n",
        "project_root = './drive/MyDrive/CS 766 Project/Project Coding and Data Files'"
      ],
      "execution_count": 4,
      "outputs": []
    },
    {
      "cell_type": "code",
      "metadata": {
        "id": "GGJsefpJ-XjF"
      },
      "source": [
        "# class to initialize CNNs\n",
        "class OriginCNN(object):\n",
        "  \"\"\"docstring for OriginCNN\"\"\"\n",
        "  def __init__(self):\n",
        "    self.optimizer = 'adam'\n",
        "    self.loss = tf.keras.losses.SparseCategoricalCrossentropy(from_logits=True)\n",
        "    # will add more properties\n",
        "\n",
        "\n",
        "  def build(self):\n",
        "    model = models.Sequential()\n",
        "    model.add(layers.Conv2D(32, (3, 3), strides=(3,3), activation='relu', input_shape=(224, 224, 1)))\n",
        "    model.add(layers.MaxPooling2D((2, 2)))\n",
        "    model.add(layers.Conv2D(32, (3, 3), strides=(3,3), activation='relu'))\n",
        "    model.add(layers.MaxPooling2D((2, 2)))\n",
        "    model.add(layers.Conv2D(32, (3, 3), strides=(3,3), activation='relu'))\n",
        "    model.add(layers.MaxPooling2D((2, 2)))\n",
        "\n",
        "    model.add(layers.Flatten())\n",
        "    model.add(layers.Dense(32, activation='relu'))\n",
        "    model.add(layers.Dense(2))\n",
        "\n",
        "    model.summary()\n",
        "    model.compile(optimizer=self.optimizer,\n",
        "                loss=self.loss,\n",
        "                metrics=['accuracy'])\n",
        "    self.model = model\n",
        "\n",
        "\n",
        "  def train(self, train_images, train_labels, test_images, test_labels, epochs):\n",
        "    self.history = self.model.fit(train_images, train_labels, epochs=epochs, \n",
        "        validation_data=(test_images, test_labels))\n",
        "\n",
        "\n",
        "  def evaluate(self, test_images, test_labels):\n",
        "    plt.plot(self.history.history['accuracy'], label='accuracy')\n",
        "    plt.plot(self.history.history['val_accuracy'], label = 'val_accuracy')\n",
        "    plt.xlabel('Epoch')\n",
        "    plt.ylabel('Accuracy')\n",
        "    plt.ylim([0.5, 1])\n",
        "    plt.legend(loc='lower right')\n",
        "\n",
        "    test_loss, test_acc = self.model.evaluate(test_images, test_labels, verbose=2)\n",
        "\n",
        "    print(test_acc)\n",
        "\n",
        "# this cnn is for testing\n",
        "class OriginCNN_cifar(object):\n",
        "  \"\"\"docstring for OriginCNN\"\"\"\n",
        "  def __init__(self):\n",
        "    self.optimizer = 'adam'\n",
        "    self.loss = tf.keras.losses.SparseCategoricalCrossentropy(from_logits=True)\n",
        "    # will add more properties\n",
        "\n",
        "  # this method is for cifar dataset, I used it for testing and debugging\n",
        "  def build(self):\n",
        "    model = models.Sequential()\n",
        "    model.add(layers.Conv2D(32, (3, 3), activation='relu', input_shape=(32, 32, 3)))\n",
        "    model.add(layers.MaxPooling2D((2, 2)))\n",
        "    model.add(layers.Conv2D(64, (3, 3), activation='relu'))\n",
        "    model.add(layers.MaxPooling2D((2, 2)))\n",
        "    model.add(layers.Conv2D(64, (3, 3), activation='relu'))\n",
        "\n",
        "    model.add(layers.Flatten())\n",
        "    model.add(layers.Dense(64, activation='relu'))\n",
        "    model.add(layers.Dense(10))\n",
        "\n",
        "    model.summary()\n",
        "    model.compile(optimizer=self.optimizer,\n",
        "                loss=self.loss,\n",
        "                metrics=['accuracy'])\n",
        "    self.model = model\n",
        "\n",
        "\n",
        "  def train(self, train_images, train_labels, test_images, test_labels, epochs):\n",
        "    self.history = self.model.fit(train_images, train_labels, epochs=epochs, \n",
        "        validation_data=(test_images, test_labels))\n",
        "\n",
        "\n",
        "  def evaluate(self, test_images, test_labels):\n",
        "    plt.plot(self.history.history['accuracy'], label='accuracy')\n",
        "    plt.plot(self.history.history['val_accuracy'], label = 'val_accuracy')\n",
        "    plt.xlabel('Epoch')\n",
        "    plt.ylabel('Accuracy')\n",
        "    plt.ylim([0.5, 1])\n",
        "    plt.legend(loc='lower right')\n",
        "\n",
        "    test_loss, test_acc = self.model.evaluate(test_images, test_labels, verbose=2)\n",
        "\n",
        "    print(test_acc)"
      ],
      "execution_count": 17,
      "outputs": []
    },
    {
      "cell_type": "code",
      "metadata": {
        "id": "V3suc98v-bRj"
      },
      "source": [
        "# classes to load data\n",
        "class Cifar10(object):\n",
        "  \"\"\"docstring for OriginCNN\"\"\"\n",
        "  def __init__(self):\n",
        "    # cifar10 is used for debugging\n",
        "    (train_images, self.train_labels), (test_images, self.test_labels) = datasets.cifar10.load_data()\n",
        "\n",
        "    # Normalize pixel values to be between 0 and 1\n",
        "    self.train_images, self.test_images = train_images / 255.0, test_images / 255.0\n",
        "\n",
        "class DR_resized(object):\n",
        "  \"\"\"docstring for DR_resized\"\"\"\n",
        "  def __init__(self):\n",
        "    # all_images = np.load(\"Data Batches/Xtrain_Batch0.npy\", allow_pickle=True)\n",
        "    # all_labels = np.load(\"Data Batches/Ytrain_Batch0.npy\", allow_pickle=True)\n",
        "    # print(all_images.shape)\n",
        "    # print(all_labels.shape)\n",
        "    # self.train_images = np.load(\"Data Batches/Xtrain_Batch0.npy\", allow_pickle=True)\n",
        "    # self.train_labels = np.load(\"Data Batches/Ytrain_Batch0.npy\")\n",
        "    # self.test_images = np.load(\"Data Batches/Xtest_Batch.npy\")\n",
        "    # self.test_labels = np.load(\"Data Batches/Ytest_Batch.npy\")\n",
        "    # print(type(self.train_images))\n",
        "    image_list = []\n",
        "    label_list = []\n",
        "    image_num = 100\n",
        "    for i in range(image_num):\n",
        "        img = np.random.rand(224, 224)\n",
        "        label = 0 if np.random.random() > 0.5 else 1\n",
        "        image_list.append(img)\n",
        "        label_list.append(label)\n",
        "    \n",
        "    all_images = np.array(image_list)\n",
        "    all_images = np.reshape(all_images, (image_num, 224, 224, 1))\n",
        "    all_label = np.array(label_list)\n",
        "    \n",
        "    self.train_images, self.test_images, self.train_labels, self.test_labels \\\n",
        "    = train_test_split(all_images, all_label, test_size=0.2, random_state=9876)\n",
        "\n",
        "\n"
      ],
      "execution_count": 31,
      "outputs": []
    },
    {
      "cell_type": "code",
      "metadata": {
        "id": "xOADsxqM3DwR"
      },
      "source": [
        "myModel = OriginCNN()"
      ],
      "execution_count": 18,
      "outputs": []
    },
    {
      "cell_type": "code",
      "metadata": {
        "colab": {
          "base_uri": "https://localhost:8080/"
        },
        "id": "1BCYySKV3DwR",
        "outputId": "94211b22-cf90-4b8f-cba0-faf71b2aebbb"
      },
      "source": [
        "myModel"
      ],
      "execution_count": 19,
      "outputs": [
        {
          "output_type": "execute_result",
          "data": {
            "text/plain": [
              "<__main__.OriginCNN at 0x7f89466d3610>"
            ]
          },
          "metadata": {
            "tags": []
          },
          "execution_count": 19
        }
      ]
    },
    {
      "cell_type": "code",
      "metadata": {
        "scrolled": true,
        "id": "EZDt94Ax3DwS"
      },
      "source": [
        "myData = DR_resized()"
      ],
      "execution_count": 32,
      "outputs": []
    },
    {
      "cell_type": "code",
      "metadata": {
        "colab": {
          "base_uri": "https://localhost:8080/"
        },
        "id": "SH9uGSrZ3DwS",
        "outputId": "e5bd8145-c60f-45b0-971b-4f3a2d3e0681"
      },
      "source": [
        "myModel.build()"
      ],
      "execution_count": 33,
      "outputs": [
        {
          "output_type": "stream",
          "text": [
            "Model: \"sequential_4\"\n",
            "_________________________________________________________________\n",
            "Layer (type)                 Output Shape              Param #   \n",
            "=================================================================\n",
            "conv2d_6 (Conv2D)            (None, 74, 74, 32)        320       \n",
            "_________________________________________________________________\n",
            "max_pooling2d_3 (MaxPooling2 (None, 37, 37, 32)        0         \n",
            "_________________________________________________________________\n",
            "conv2d_7 (Conv2D)            (None, 12, 12, 32)        9248      \n",
            "_________________________________________________________________\n",
            "max_pooling2d_4 (MaxPooling2 (None, 6, 6, 32)          0         \n",
            "_________________________________________________________________\n",
            "conv2d_8 (Conv2D)            (None, 2, 2, 32)          9248      \n",
            "_________________________________________________________________\n",
            "max_pooling2d_5 (MaxPooling2 (None, 1, 1, 32)          0         \n",
            "_________________________________________________________________\n",
            "flatten_1 (Flatten)          (None, 32)                0         \n",
            "_________________________________________________________________\n",
            "dense_2 (Dense)              (None, 32)                1056      \n",
            "_________________________________________________________________\n",
            "dense_3 (Dense)              (None, 2)                 66        \n",
            "=================================================================\n",
            "Total params: 19,938\n",
            "Trainable params: 19,938\n",
            "Non-trainable params: 0\n",
            "_________________________________________________________________\n"
          ],
          "name": "stdout"
        }
      ]
    },
    {
      "cell_type": "code",
      "metadata": {
        "colab": {
          "base_uri": "https://localhost:8080/"
        },
        "id": "LrJnfPqP3DwS",
        "outputId": "bf62cedc-b128-4994-d865-35fa9e9c4378"
      },
      "source": [
        "myModel.train(myData.train_images, myData.train_labels, myData.test_images, myData.test_labels, 100)"
      ],
      "execution_count": 35,
      "outputs": [
        {
          "output_type": "stream",
          "text": [
            "Epoch 1/100\n",
            "3/3 [==============================] - 0s 45ms/step - loss: 0.6664 - accuracy: 0.5250 - val_loss: 0.7289 - val_accuracy: 0.3000\n",
            "Epoch 2/100\n",
            "3/3 [==============================] - 0s 25ms/step - loss: 0.6663 - accuracy: 0.5250 - val_loss: 0.7208 - val_accuracy: 0.3000\n",
            "Epoch 3/100\n",
            "3/3 [==============================] - 0s 26ms/step - loss: 0.6582 - accuracy: 0.7375 - val_loss: 0.6847 - val_accuracy: 0.7500\n",
            "Epoch 4/100\n",
            "3/3 [==============================] - 0s 24ms/step - loss: 0.6557 - accuracy: 0.9625 - val_loss: 0.6905 - val_accuracy: 0.7000\n",
            "Epoch 5/100\n",
            "3/3 [==============================] - 0s 27ms/step - loss: 0.6491 - accuracy: 0.9875 - val_loss: 0.7142 - val_accuracy: 0.3000\n",
            "Epoch 6/100\n",
            "3/3 [==============================] - 0s 25ms/step - loss: 0.6430 - accuracy: 0.7500 - val_loss: 0.7263 - val_accuracy: 0.3000\n",
            "Epoch 7/100\n",
            "3/3 [==============================] - 0s 25ms/step - loss: 0.6391 - accuracy: 0.7250 - val_loss: 0.7196 - val_accuracy: 0.3000\n",
            "Epoch 8/100\n",
            "3/3 [==============================] - 0s 27ms/step - loss: 0.6315 - accuracy: 0.6500 - val_loss: 0.7298 - val_accuracy: 0.3000\n",
            "Epoch 9/100\n",
            "3/3 [==============================] - 0s 25ms/step - loss: 0.6232 - accuracy: 0.7500 - val_loss: 0.7203 - val_accuracy: 0.3000\n",
            "Epoch 10/100\n",
            "3/3 [==============================] - 0s 25ms/step - loss: 0.6156 - accuracy: 0.7875 - val_loss: 0.7283 - val_accuracy: 0.3000\n",
            "Epoch 11/100\n",
            "3/3 [==============================] - 0s 26ms/step - loss: 0.6059 - accuracy: 0.9250 - val_loss: 0.7104 - val_accuracy: 0.3000\n",
            "Epoch 12/100\n",
            "3/3 [==============================] - 0s 27ms/step - loss: 0.5882 - accuracy: 1.0000 - val_loss: 0.6824 - val_accuracy: 0.7500\n",
            "Epoch 13/100\n",
            "3/3 [==============================] - 0s 27ms/step - loss: 0.5859 - accuracy: 0.9875 - val_loss: 0.6838 - val_accuracy: 0.7000\n",
            "Epoch 14/100\n",
            "3/3 [==============================] - 0s 26ms/step - loss: 0.5672 - accuracy: 1.0000 - val_loss: 0.7074 - val_accuracy: 0.2500\n",
            "Epoch 15/100\n",
            "3/3 [==============================] - 0s 27ms/step - loss: 0.5623 - accuracy: 0.8750 - val_loss: 0.7580 - val_accuracy: 0.3000\n",
            "Epoch 16/100\n",
            "3/3 [==============================] - 0s 25ms/step - loss: 0.5329 - accuracy: 1.0000 - val_loss: 0.6670 - val_accuracy: 0.7000\n",
            "Epoch 17/100\n",
            "3/3 [==============================] - 0s 26ms/step - loss: 0.5276 - accuracy: 0.9875 - val_loss: 0.6818 - val_accuracy: 0.6500\n",
            "Epoch 18/100\n",
            "3/3 [==============================] - 0s 25ms/step - loss: 0.4995 - accuracy: 1.0000 - val_loss: 0.7754 - val_accuracy: 0.3000\n",
            "Epoch 19/100\n",
            "3/3 [==============================] - 0s 25ms/step - loss: 0.4934 - accuracy: 0.9875 - val_loss: 0.7868 - val_accuracy: 0.3000\n",
            "Epoch 20/100\n",
            "3/3 [==============================] - 0s 24ms/step - loss: 0.4732 - accuracy: 0.9875 - val_loss: 0.7374 - val_accuracy: 0.3000\n",
            "Epoch 21/100\n",
            "3/3 [==============================] - 0s 25ms/step - loss: 0.4481 - accuracy: 1.0000 - val_loss: 0.6461 - val_accuracy: 0.7000\n",
            "Epoch 22/100\n",
            "3/3 [==============================] - 0s 24ms/step - loss: 0.4379 - accuracy: 0.9750 - val_loss: 0.7403 - val_accuracy: 0.2500\n",
            "Epoch 23/100\n",
            "3/3 [==============================] - 0s 25ms/step - loss: 0.4012 - accuracy: 1.0000 - val_loss: 0.7732 - val_accuracy: 0.3000\n",
            "Epoch 24/100\n",
            "3/3 [==============================] - 0s 25ms/step - loss: 0.3816 - accuracy: 1.0000 - val_loss: 0.6896 - val_accuracy: 0.5000\n",
            "Epoch 25/100\n",
            "3/3 [==============================] - 0s 26ms/step - loss: 0.3537 - accuracy: 1.0000 - val_loss: 0.7523 - val_accuracy: 0.2500\n",
            "Epoch 26/100\n",
            "3/3 [==============================] - 0s 27ms/step - loss: 0.3235 - accuracy: 1.0000 - val_loss: 0.7257 - val_accuracy: 0.3500\n",
            "Epoch 27/100\n",
            "3/3 [==============================] - 0s 26ms/step - loss: 0.2969 - accuracy: 1.0000 - val_loss: 0.7473 - val_accuracy: 0.2500\n",
            "Epoch 28/100\n",
            "3/3 [==============================] - 0s 25ms/step - loss: 0.2703 - accuracy: 1.0000 - val_loss: 0.7633 - val_accuracy: 0.2500\n",
            "Epoch 29/100\n",
            "3/3 [==============================] - 0s 29ms/step - loss: 0.2429 - accuracy: 1.0000 - val_loss: 0.7101 - val_accuracy: 0.4500\n",
            "Epoch 30/100\n",
            "3/3 [==============================] - 0s 26ms/step - loss: 0.2167 - accuracy: 1.0000 - val_loss: 0.7954 - val_accuracy: 0.2500\n",
            "Epoch 31/100\n",
            "3/3 [==============================] - 0s 26ms/step - loss: 0.1940 - accuracy: 1.0000 - val_loss: 0.7208 - val_accuracy: 0.4000\n",
            "Epoch 32/100\n",
            "3/3 [==============================] - 0s 26ms/step - loss: 0.1715 - accuracy: 1.0000 - val_loss: 0.7342 - val_accuracy: 0.3500\n",
            "Epoch 33/100\n",
            "3/3 [==============================] - 0s 25ms/step - loss: 0.1550 - accuracy: 1.0000 - val_loss: 0.7923 - val_accuracy: 0.2500\n",
            "Epoch 34/100\n",
            "3/3 [==============================] - 0s 25ms/step - loss: 0.1296 - accuracy: 1.0000 - val_loss: 0.7011 - val_accuracy: 0.6000\n",
            "Epoch 35/100\n",
            "3/3 [==============================] - 0s 25ms/step - loss: 0.1121 - accuracy: 1.0000 - val_loss: 0.8365 - val_accuracy: 0.2500\n",
            "Epoch 36/100\n",
            "3/3 [==============================] - 0s 26ms/step - loss: 0.0943 - accuracy: 1.0000 - val_loss: 0.7598 - val_accuracy: 0.2500\n",
            "Epoch 37/100\n",
            "3/3 [==============================] - 0s 27ms/step - loss: 0.0820 - accuracy: 1.0000 - val_loss: 0.7770 - val_accuracy: 0.3000\n",
            "Epoch 38/100\n",
            "3/3 [==============================] - 0s 27ms/step - loss: 0.0682 - accuracy: 1.0000 - val_loss: 0.8274 - val_accuracy: 0.3000\n",
            "Epoch 39/100\n",
            "3/3 [==============================] - 0s 27ms/step - loss: 0.0597 - accuracy: 1.0000 - val_loss: 0.7939 - val_accuracy: 0.3500\n",
            "Epoch 40/100\n",
            "3/3 [==============================] - 0s 26ms/step - loss: 0.0522 - accuracy: 1.0000 - val_loss: 0.8230 - val_accuracy: 0.3000\n",
            "Epoch 41/100\n",
            "3/3 [==============================] - 0s 25ms/step - loss: 0.0464 - accuracy: 1.0000 - val_loss: 0.7736 - val_accuracy: 0.2500\n",
            "Epoch 42/100\n",
            "3/3 [==============================] - 0s 27ms/step - loss: 0.0397 - accuracy: 1.0000 - val_loss: 0.9581 - val_accuracy: 0.3000\n",
            "Epoch 43/100\n",
            "3/3 [==============================] - 0s 26ms/step - loss: 0.0348 - accuracy: 1.0000 - val_loss: 0.7336 - val_accuracy: 0.5500\n",
            "Epoch 44/100\n",
            "3/3 [==============================] - 0s 25ms/step - loss: 0.0315 - accuracy: 1.0000 - val_loss: 0.8325 - val_accuracy: 0.3500\n",
            "Epoch 45/100\n",
            "3/3 [==============================] - 0s 28ms/step - loss: 0.0264 - accuracy: 1.0000 - val_loss: 0.9149 - val_accuracy: 0.2500\n",
            "Epoch 46/100\n",
            "3/3 [==============================] - 0s 25ms/step - loss: 0.0235 - accuracy: 1.0000 - val_loss: 0.7862 - val_accuracy: 0.3000\n",
            "Epoch 47/100\n",
            "3/3 [==============================] - 0s 27ms/step - loss: 0.0210 - accuracy: 1.0000 - val_loss: 0.8437 - val_accuracy: 0.3500\n",
            "Epoch 48/100\n",
            "3/3 [==============================] - 0s 25ms/step - loss: 0.0185 - accuracy: 1.0000 - val_loss: 0.8675 - val_accuracy: 0.3000\n",
            "Epoch 49/100\n",
            "3/3 [==============================] - 0s 25ms/step - loss: 0.0167 - accuracy: 1.0000 - val_loss: 0.8331 - val_accuracy: 0.3000\n",
            "Epoch 50/100\n",
            "3/3 [==============================] - 0s 26ms/step - loss: 0.0154 - accuracy: 1.0000 - val_loss: 0.8144 - val_accuracy: 0.2500\n",
            "Epoch 51/100\n",
            "3/3 [==============================] - 0s 27ms/step - loss: 0.0141 - accuracy: 1.0000 - val_loss: 0.8701 - val_accuracy: 0.3500\n",
            "Epoch 52/100\n",
            "3/3 [==============================] - 0s 25ms/step - loss: 0.0132 - accuracy: 1.0000 - val_loss: 0.9152 - val_accuracy: 0.3000\n",
            "Epoch 53/100\n",
            "3/3 [==============================] - 0s 29ms/step - loss: 0.0119 - accuracy: 1.0000 - val_loss: 0.8080 - val_accuracy: 0.3000\n",
            "Epoch 54/100\n",
            "3/3 [==============================] - 0s 26ms/step - loss: 0.0117 - accuracy: 1.0000 - val_loss: 0.8254 - val_accuracy: 0.2500\n",
            "Epoch 55/100\n",
            "3/3 [==============================] - 0s 26ms/step - loss: 0.0104 - accuracy: 1.0000 - val_loss: 0.9265 - val_accuracy: 0.3000\n",
            "Epoch 56/100\n",
            "3/3 [==============================] - 0s 26ms/step - loss: 0.0099 - accuracy: 1.0000 - val_loss: 0.9167 - val_accuracy: 0.3000\n",
            "Epoch 57/100\n",
            "3/3 [==============================] - 0s 26ms/step - loss: 0.0091 - accuracy: 1.0000 - val_loss: 0.8579 - val_accuracy: 0.3000\n",
            "Epoch 58/100\n",
            "3/3 [==============================] - 0s 27ms/step - loss: 0.0085 - accuracy: 1.0000 - val_loss: 0.8770 - val_accuracy: 0.3500\n",
            "Epoch 59/100\n",
            "3/3 [==============================] - 0s 25ms/step - loss: 0.0080 - accuracy: 1.0000 - val_loss: 0.9074 - val_accuracy: 0.3000\n",
            "Epoch 60/100\n",
            "3/3 [==============================] - 0s 28ms/step - loss: 0.0076 - accuracy: 1.0000 - val_loss: 0.9124 - val_accuracy: 0.3000\n",
            "Epoch 61/100\n",
            "3/3 [==============================] - 0s 25ms/step - loss: 0.0071 - accuracy: 1.0000 - val_loss: 0.8700 - val_accuracy: 0.3500\n",
            "Epoch 62/100\n",
            "3/3 [==============================] - 0s 31ms/step - loss: 0.0069 - accuracy: 1.0000 - val_loss: 0.8641 - val_accuracy: 0.2500\n",
            "Epoch 63/100\n",
            "3/3 [==============================] - 0s 26ms/step - loss: 0.0064 - accuracy: 1.0000 - val_loss: 0.9781 - val_accuracy: 0.3000\n",
            "Epoch 64/100\n",
            "3/3 [==============================] - 0s 26ms/step - loss: 0.0063 - accuracy: 1.0000 - val_loss: 0.9508 - val_accuracy: 0.3000\n",
            "Epoch 65/100\n",
            "3/3 [==============================] - 0s 28ms/step - loss: 0.0059 - accuracy: 1.0000 - val_loss: 0.8862 - val_accuracy: 0.3500\n",
            "Epoch 66/100\n",
            "3/3 [==============================] - 0s 26ms/step - loss: 0.0056 - accuracy: 1.0000 - val_loss: 0.8896 - val_accuracy: 0.3500\n",
            "Epoch 67/100\n",
            "3/3 [==============================] - 0s 25ms/step - loss: 0.0053 - accuracy: 1.0000 - val_loss: 0.9259 - val_accuracy: 0.3000\n",
            "Epoch 68/100\n",
            "3/3 [==============================] - 0s 26ms/step - loss: 0.0051 - accuracy: 1.0000 - val_loss: 0.9714 - val_accuracy: 0.3000\n",
            "Epoch 69/100\n",
            "3/3 [==============================] - 0s 25ms/step - loss: 0.0049 - accuracy: 1.0000 - val_loss: 0.9302 - val_accuracy: 0.3500\n",
            "Epoch 70/100\n",
            "3/3 [==============================] - 0s 26ms/step - loss: 0.0046 - accuracy: 1.0000 - val_loss: 0.8794 - val_accuracy: 0.2500\n",
            "Epoch 71/100\n",
            "3/3 [==============================] - 0s 26ms/step - loss: 0.0045 - accuracy: 1.0000 - val_loss: 0.8823 - val_accuracy: 0.2500\n",
            "Epoch 72/100\n",
            "3/3 [==============================] - 0s 28ms/step - loss: 0.0043 - accuracy: 1.0000 - val_loss: 0.9414 - val_accuracy: 0.3000\n",
            "Epoch 73/100\n",
            "3/3 [==============================] - 0s 26ms/step - loss: 0.0042 - accuracy: 1.0000 - val_loss: 0.9813 - val_accuracy: 0.3000\n",
            "Epoch 74/100\n",
            "3/3 [==============================] - 0s 27ms/step - loss: 0.0040 - accuracy: 1.0000 - val_loss: 0.9333 - val_accuracy: 0.4000\n",
            "Epoch 75/100\n",
            "3/3 [==============================] - 0s 31ms/step - loss: 0.0038 - accuracy: 1.0000 - val_loss: 0.9073 - val_accuracy: 0.3500\n",
            "Epoch 76/100\n",
            "3/3 [==============================] - 0s 27ms/step - loss: 0.0037 - accuracy: 1.0000 - val_loss: 0.9321 - val_accuracy: 0.3500\n",
            "Epoch 77/100\n",
            "3/3 [==============================] - 0s 27ms/step - loss: 0.0036 - accuracy: 1.0000 - val_loss: 0.9451 - val_accuracy: 0.4000\n",
            "Epoch 78/100\n",
            "3/3 [==============================] - 0s 26ms/step - loss: 0.0035 - accuracy: 1.0000 - val_loss: 0.9402 - val_accuracy: 0.3500\n",
            "Epoch 79/100\n",
            "3/3 [==============================] - 0s 26ms/step - loss: 0.0033 - accuracy: 1.0000 - val_loss: 0.9425 - val_accuracy: 0.4000\n",
            "Epoch 80/100\n",
            "3/3 [==============================] - 0s 26ms/step - loss: 0.0032 - accuracy: 1.0000 - val_loss: 0.9353 - val_accuracy: 0.3500\n",
            "Epoch 81/100\n",
            "3/3 [==============================] - 0s 26ms/step - loss: 0.0031 - accuracy: 1.0000 - val_loss: 0.9210 - val_accuracy: 0.3500\n",
            "Epoch 82/100\n",
            "3/3 [==============================] - 0s 25ms/step - loss: 0.0030 - accuracy: 1.0000 - val_loss: 0.9363 - val_accuracy: 0.3500\n",
            "Epoch 83/100\n",
            "3/3 [==============================] - 0s 26ms/step - loss: 0.0029 - accuracy: 1.0000 - val_loss: 0.9451 - val_accuracy: 0.3500\n",
            "Epoch 84/100\n",
            "3/3 [==============================] - 0s 26ms/step - loss: 0.0028 - accuracy: 1.0000 - val_loss: 0.9476 - val_accuracy: 0.3500\n",
            "Epoch 85/100\n",
            "3/3 [==============================] - 0s 27ms/step - loss: 0.0028 - accuracy: 1.0000 - val_loss: 0.9411 - val_accuracy: 0.3500\n",
            "Epoch 86/100\n",
            "3/3 [==============================] - 0s 26ms/step - loss: 0.0027 - accuracy: 1.0000 - val_loss: 0.9783 - val_accuracy: 0.3000\n",
            "Epoch 87/100\n",
            "3/3 [==============================] - 0s 32ms/step - loss: 0.0026 - accuracy: 1.0000 - val_loss: 0.9788 - val_accuracy: 0.3000\n",
            "Epoch 88/100\n",
            "3/3 [==============================] - 0s 26ms/step - loss: 0.0025 - accuracy: 1.0000 - val_loss: 0.9470 - val_accuracy: 0.3500\n",
            "Epoch 89/100\n",
            "3/3 [==============================] - 0s 25ms/step - loss: 0.0025 - accuracy: 1.0000 - val_loss: 0.9234 - val_accuracy: 0.3500\n",
            "Epoch 90/100\n",
            "3/3 [==============================] - 0s 27ms/step - loss: 0.0024 - accuracy: 1.0000 - val_loss: 0.9559 - val_accuracy: 0.3500\n",
            "Epoch 91/100\n",
            "3/3 [==============================] - 0s 28ms/step - loss: 0.0023 - accuracy: 1.0000 - val_loss: 0.9873 - val_accuracy: 0.3000\n",
            "Epoch 92/100\n",
            "3/3 [==============================] - 0s 27ms/step - loss: 0.0023 - accuracy: 1.0000 - val_loss: 0.9835 - val_accuracy: 0.3000\n",
            "Epoch 93/100\n",
            "3/3 [==============================] - 0s 28ms/step - loss: 0.0022 - accuracy: 1.0000 - val_loss: 0.9451 - val_accuracy: 0.3500\n",
            "Epoch 94/100\n",
            "3/3 [==============================] - 0s 27ms/step - loss: 0.0021 - accuracy: 1.0000 - val_loss: 0.9448 - val_accuracy: 0.3500\n",
            "Epoch 95/100\n",
            "3/3 [==============================] - 0s 27ms/step - loss: 0.0021 - accuracy: 1.0000 - val_loss: 0.9551 - val_accuracy: 0.3500\n",
            "Epoch 96/100\n",
            "3/3 [==============================] - 0s 25ms/step - loss: 0.0020 - accuracy: 1.0000 - val_loss: 0.9814 - val_accuracy: 0.4000\n",
            "Epoch 97/100\n",
            "3/3 [==============================] - 0s 26ms/step - loss: 0.0020 - accuracy: 1.0000 - val_loss: 0.9867 - val_accuracy: 0.3500\n",
            "Epoch 98/100\n",
            "3/3 [==============================] - 0s 25ms/step - loss: 0.0019 - accuracy: 1.0000 - val_loss: 0.9744 - val_accuracy: 0.3500\n",
            "Epoch 99/100\n",
            "3/3 [==============================] - 0s 27ms/step - loss: 0.0019 - accuracy: 1.0000 - val_loss: 0.9490 - val_accuracy: 0.3500\n",
            "Epoch 100/100\n",
            "3/3 [==============================] - 0s 26ms/step - loss: 0.0018 - accuracy: 1.0000 - val_loss: 0.9452 - val_accuracy: 0.3500\n"
          ],
          "name": "stdout"
        }
      ]
    },
    {
      "cell_type": "code",
      "metadata": {
        "colab": {
          "base_uri": "https://localhost:8080/",
          "height": 317
        },
        "id": "aEFWYpJj3DwT",
        "outputId": "0e59601f-05dc-453b-e839-f2dc1c43bfd1"
      },
      "source": [
        "myModel.evaluate(myData.test_images, myData.test_labels)"
      ],
      "execution_count": 36,
      "outputs": [
        {
          "output_type": "stream",
          "text": [
            "1/1 - 0s - loss: 0.9452 - accuracy: 0.3500\n",
            "0.3499999940395355\n"
          ],
          "name": "stdout"
        },
        {
          "output_type": "display_data",
          "data": {
            "image/png": "[encoded data removed]",
            "text/plain": [
              "<Figure size 432x288 with 1 Axes>"
            ]
          },
          "metadata": {
            "tags": [],
            "needs_background": "light"
          }
        }
      ]
    }
  ]
}